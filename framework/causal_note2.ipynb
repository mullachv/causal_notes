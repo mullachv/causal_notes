{
 "cells": [
  {
   "cell_type": "markdown",
   "metadata": {},
   "source": [
    "## Structural Model\n",
    "$X_1 \\sim Ber(.3)$\n",
    "\n",
    "$X_2 \\sim \\mathcal{N}(X_1,.1)$\n",
    "\n",
    "$X_3 = X_2 ^2$"
   ]
  },
  {
   "cell_type": "code",
   "execution_count": 1,
   "metadata": {},
   "outputs": [
    {
     "name": "stdout",
     "output_type": "stream",
     "text": [
      "x1:0, x2:0.012, x3:0.000\n"
     ]
    }
   ],
   "source": [
    "import numpy as np\n",
    "import pandas as pd\n",
    "import matplotlib.pyplot as plt\n",
    "import seaborn as sns\n",
    "\n",
    "%matplotlib inline\n",
    "np.random.seed(40997)\n",
    "\n",
    "def f1():\n",
    "    return np.random.binomial(1, 0.3)\n",
    "\n",
    "def f2(x1):\n",
    "    return np.random.normal(loc=x1, scale=.1)\n",
    "\n",
    "def f3(x2):\n",
    "    return x2 ** 2\n",
    "\n",
    "x1 = f1()\n",
    "x2 = f2(x1)\n",
    "x3 = f3(x2)\n",
    "\n",
    "print(\"x1:{}, x2:{:.3f}, x3:{:.3f}\".format(x1,x2,x3))"
   ]
  },
  {
   "cell_type": "code",
   "execution_count": 2,
   "metadata": {},
   "outputs": [
    {
     "data": {
      "text/plain": [
       "<matplotlib.legend.Legend at 0x1a2311bcc0>"
      ]
     },
     "execution_count": 2,
     "metadata": {},
     "output_type": "execute_result"
    },
    {
     "data": {
      "image/png": "[encoded data removed]",
      "text/plain": [
       "<matplotlib.figure.Figure at 0x1a17b7d4e0>"
      ]
     },
     "metadata": {
      "needs_background": "light"
     },
     "output_type": "display_data"
    }
   ],
   "source": [
    "#\n",
    "# Plot Entropy = - p log p\n",
    "#\n",
    "# 0 to sqrt(2) so the entire area under the Prob curve is 1\n",
    "x = np.linspace(1e-10,1,100)\n",
    "y1 = np.sqrt(2) * x\n",
    "y2 = -x * np.log(x)\n",
    "plt.plot(x, y1, 'b', label='y = x*sqrt(2)')\n",
    "plt.plot(x, y2, 'r', label='Entropy: -p log p')\n",
    "plt.title('Entropy: -p log p')\n",
    "plt.xticks([np.min(x), np.exp(-1), np.average(x), np.max(x)]) #max at 1/e\n",
    "plt.legend()"
   ]
  },
  {
   "cell_type": "markdown",
   "metadata": {},
   "source": [
    "## Causal Graphical Models\n",
    "pip install causalgraphicalmodels"
   ]
  },
  {
   "cell_type": "code",
   "execution_count": 3,
   "metadata": {},
   "outputs": [
    {
     "data": {
      "image/svg+xml": [
       "<?xml version=\"1.0\" encoding=\"UTF-8\" standalone=\"no\"?>\n",
       "<!DOCTYPE svg PUBLIC \"-//W3C//DTD SVG 1.1//EN\"\n",
       " \"http://www.w3.org/Graphics/SVG/1.1/DTD/svg11.dtd\">\n",
       "<!-- Generated by graphviz version 2.40.1 (20161225.0304)\n",
       " -->\n",
       "<!-- Title: %3 Pages: 1 -->\n",
       "<svg width=\"164pt\" height=\"260pt\"\n",
       " viewBox=\"0.00 0.00 163.54 260.00\" xmlns=\"http://www.w3.org/2000/svg\" xmlns:xlink=\"http://www.w3.org/1999/xlink\">\n",
       "<g id=\"graph0\" class=\"graph\" transform=\"scale(1 1) rotate(0) translate(4 256)\">\n",
       "<title>%3</title>\n",
       "<polygon fill=\"#ffffff\" stroke=\"transparent\" points=\"-4,4 -4,-256 159.5426,-256 159.5426,4 -4,4\"/>\n",
       "<!-- slippery -->\n",
       "<g id=\"node1\" class=\"node\">\n",
       "<title>slippery</title>\n",
       "<ellipse fill=\"none\" stroke=\"#000000\" cx=\"84.5426\" cy=\"-18\" rx=\"38.6955\" ry=\"18\"/>\n",
       "<text text-anchor=\"middle\" x=\"84.5426\" y=\"-13.8\" font-family=\"Times,serif\" font-size=\"14.00\" fill=\"#000000\">slippery</text>\n",
       "</g>\n",
       "<!-- sprinkler -->\n",
       "<g id=\"node2\" class=\"node\">\n",
       "<title>sprinkler</title>\n",
       "<ellipse fill=\"none\" stroke=\"#000000\" cx=\"41.5426\" cy=\"-162\" rx=\"41.5852\" ry=\"18\"/>\n",
       "<text text-anchor=\"middle\" x=\"41.5426\" y=\"-157.8\" font-family=\"Times,serif\" font-size=\"14.00\" fill=\"#000000\">sprinkler</text>\n",
       "</g>\n",
       "<!-- wet -->\n",
       "<g id=\"node4\" class=\"node\">\n",
       "<title>wet</title>\n",
       "<ellipse fill=\"none\" stroke=\"#000000\" cx=\"84.5426\" cy=\"-90\" rx=\"27\" ry=\"18\"/>\n",
       "<text text-anchor=\"middle\" x=\"84.5426\" y=\"-85.8\" font-family=\"Times,serif\" font-size=\"14.00\" fill=\"#000000\">wet</text>\n",
       "</g>\n",
       "<!-- sprinkler&#45;&gt;wet -->\n",
       "<g id=\"edge4\" class=\"edge\">\n",
       "<title>sprinkler&#45;&gt;wet</title>\n",
       "<path fill=\"none\" stroke=\"#000000\" d=\"M51.9517,-144.5708C57.1503,-135.8661 63.5403,-125.1665 69.2808,-115.5546\"/>\n",
       "<polygon fill=\"#000000\" stroke=\"#000000\" points=\"72.4029,-117.153 74.5254,-106.7729 66.3931,-113.5637 72.4029,-117.153\"/>\n",
       "</g>\n",
       "<!-- season -->\n",
       "<g id=\"node3\" class=\"node\">\n",
       "<title>season</title>\n",
       "<ellipse fill=\"none\" stroke=\"#000000\" cx=\"84.5426\" cy=\"-234\" rx=\"33.8683\" ry=\"18\"/>\n",
       "<text text-anchor=\"middle\" x=\"84.5426\" y=\"-229.8\" font-family=\"Times,serif\" font-size=\"14.00\" fill=\"#000000\">season</text>\n",
       "</g>\n",
       "<!-- season&#45;&gt;sprinkler -->\n",
       "<g id=\"edge2\" class=\"edge\">\n",
       "<title>season&#45;&gt;sprinkler</title>\n",
       "<path fill=\"none\" stroke=\"#000000\" d=\"M74.1335,-216.5708C69.0478,-208.0553 62.8221,-197.6308 57.1796,-188.183\"/>\n",
       "<polygon fill=\"#000000\" stroke=\"#000000\" points=\"60.1372,-186.3091 52.0049,-179.5182 54.1274,-189.8983 60.1372,-186.3091\"/>\n",
       "</g>\n",
       "<!-- rain -->\n",
       "<g id=\"node5\" class=\"node\">\n",
       "<title>rain</title>\n",
       "<ellipse fill=\"none\" stroke=\"#000000\" cx=\"128.5426\" cy=\"-162\" rx=\"27\" ry=\"18\"/>\n",
       "<text text-anchor=\"middle\" x=\"128.5426\" y=\"-157.8\" font-family=\"Times,serif\" font-size=\"14.00\" fill=\"#000000\">rain</text>\n",
       "</g>\n",
       "<!-- season&#45;&gt;rain -->\n",
       "<g id=\"edge1\" class=\"edge\">\n",
       "<title>season&#45;&gt;rain</title>\n",
       "<path fill=\"none\" stroke=\"#000000\" d=\"M95.1938,-216.5708C100.5133,-207.8661 107.0519,-197.1665 112.9259,-187.5546\"/>\n",
       "<polygon fill=\"#000000\" stroke=\"#000000\" points=\"116.0644,-189.1308 118.2925,-178.7729 110.0914,-185.4807 116.0644,-189.1308\"/>\n",
       "</g>\n",
       "<!-- wet&#45;&gt;slippery -->\n",
       "<g id=\"edge5\" class=\"edge\">\n",
       "<title>wet&#45;&gt;slippery</title>\n",
       "<path fill=\"none\" stroke=\"#000000\" d=\"M84.5426,-71.8314C84.5426,-64.131 84.5426,-54.9743 84.5426,-46.4166\"/>\n",
       "<polygon fill=\"#000000\" stroke=\"#000000\" points=\"88.0427,-46.4132 84.5426,-36.4133 81.0427,-46.4133 88.0427,-46.4132\"/>\n",
       "</g>\n",
       "<!-- rain&#45;&gt;wet -->\n",
       "<g id=\"edge3\" class=\"edge\">\n",
       "<title>rain&#45;&gt;wet</title>\n",
       "<path fill=\"none\" stroke=\"#000000\" d=\"M118.3375,-145.3008C112.9729,-136.5224 106.28,-125.5703 100.2689,-115.7339\"/>\n",
       "<polygon fill=\"#000000\" stroke=\"#000000\" points=\"103.1989,-113.8164 94.9979,-107.1086 97.2259,-117.4666 103.1989,-113.8164\"/>\n",
       "</g>\n",
       "</g>\n",
       "</svg>\n"
      ],
      "text/plain": [
       "<graphviz.dot.Digraph at 0x111d044a8>"
      ]
     },
     "execution_count": 3,
     "metadata": {},
     "output_type": "execute_result"
    }
   ],
   "source": [
    "from causalgraphicalmodels import CausalGraphicalModel\n",
    "sprinkler = CausalGraphicalModel(\n",
    "    nodes=['season','rain',  'sprinkler', 'wet', 'slippery'],\n",
    "    edges=[\n",
    "        ('season', 'rain'),\n",
    "        ('season', 'sprinkler'),\n",
    "        ('rain', 'wet'),\n",
    "        ('sprinkler', 'wet'),\n",
    "        ('wet', 'slippery')\n",
    "    ]\n",
    ")\n",
    "sprinkler.draw()\n"
   ]
  },
  {
   "cell_type": "code",
   "execution_count": 4,
   "metadata": {},
   "outputs": [
    {
     "name": "stdout",
     "output_type": "stream",
     "text": [
      "P(season)P(rain|season)P(sprinkler|season)P(wet|rain,sprinkler)P(slippery|wet)\n"
     ]
    }
   ],
   "source": [
    "print(sprinkler.get_distribution())"
   ]
  },
  {
   "cell_type": "code",
   "execution_count": 5,
   "metadata": {},
   "outputs": [
    {
     "name": "stdout",
     "output_type": "stream",
     "text": [
      "P(season)P(sprinkler|season)P(wet|do(rain),sprinkler)P(slippery|wet)\n"
     ]
    },
    {
     "data": {
      "image/svg+xml": [
       "<?xml version=\"1.0\" encoding=\"UTF-8\" standalone=\"no\"?>\n",
       "<!DOCTYPE svg PUBLIC \"-//W3C//DTD SVG 1.1//EN\"\n",
       " \"http://www.w3.org/Graphics/SVG/1.1/DTD/svg11.dtd\">\n",
       "<!-- Generated by graphviz version 2.40.1 (20161225.0304)\n",
       " -->\n",
       "<!-- Title: %3 Pages: 1 -->\n",
       "<svg width=\"172pt\" height=\"268pt\"\n",
       " viewBox=\"0.00 0.00 171.54 268.00\" xmlns=\"http://www.w3.org/2000/svg\" xmlns:xlink=\"http://www.w3.org/1999/xlink\">\n",
       "<g id=\"graph0\" class=\"graph\" transform=\"scale(1 1) rotate(0) translate(4 264)\">\n",
       "<title>%3</title>\n",
       "<polygon fill=\"#ffffff\" stroke=\"transparent\" points=\"-4,4 -4,-264 167.5426,-264 167.5426,4 -4,4\"/>\n",
       "<!-- slippery -->\n",
       "<g id=\"node1\" class=\"node\">\n",
       "<title>slippery</title>\n",
       "<ellipse fill=\"none\" stroke=\"#000000\" cx=\"86.5426\" cy=\"-18\" rx=\"38.6955\" ry=\"18\"/>\n",
       "<text text-anchor=\"middle\" x=\"86.5426\" y=\"-13.8\" font-family=\"Times,serif\" font-size=\"14.00\" fill=\"#000000\">slippery</text>\n",
       "</g>\n",
       "<!-- sprinkler -->\n",
       "<g id=\"node2\" class=\"node\">\n",
       "<title>sprinkler</title>\n",
       "<ellipse fill=\"none\" stroke=\"#000000\" cx=\"41.5426\" cy=\"-166\" rx=\"41.5852\" ry=\"18\"/>\n",
       "<text text-anchor=\"middle\" x=\"41.5426\" y=\"-161.8\" font-family=\"Times,serif\" font-size=\"14.00\" fill=\"#000000\">sprinkler</text>\n",
       "</g>\n",
       "<!-- wet -->\n",
       "<g id=\"node4\" class=\"node\">\n",
       "<title>wet</title>\n",
       "<ellipse fill=\"none\" stroke=\"#000000\" cx=\"86.5426\" cy=\"-90\" rx=\"27\" ry=\"18\"/>\n",
       "<text text-anchor=\"middle\" x=\"86.5426\" y=\"-85.8\" font-family=\"Times,serif\" font-size=\"14.00\" fill=\"#000000\">wet</text>\n",
       "</g>\n",
       "<!-- sprinkler&#45;&gt;wet -->\n",
       "<g id=\"edge1\" class=\"edge\">\n",
       "<title>sprinkler&#45;&gt;wet</title>\n",
       "<path fill=\"none\" stroke=\"#000000\" d=\"M51.9796,-148.373C57.7809,-138.5753 65.1012,-126.2122 71.5098,-115.3886\"/>\n",
       "<polygon fill=\"#000000\" stroke=\"#000000\" points=\"74.5421,-117.1371 76.6254,-106.7491 68.5187,-113.5706 74.5421,-117.1371\"/>\n",
       "</g>\n",
       "<!-- season -->\n",
       "<g id=\"node3\" class=\"node\">\n",
       "<title>season</title>\n",
       "<ellipse fill=\"none\" stroke=\"#000000\" cx=\"41.5426\" cy=\"-242\" rx=\"33.8683\" ry=\"18\"/>\n",
       "<text text-anchor=\"middle\" x=\"41.5426\" y=\"-237.8\" font-family=\"Times,serif\" font-size=\"14.00\" fill=\"#000000\">season</text>\n",
       "</g>\n",
       "<!-- season&#45;&gt;sprinkler -->\n",
       "<g id=\"edge2\" class=\"edge\">\n",
       "<title>season&#45;&gt;sprinkler</title>\n",
       "<path fill=\"none\" stroke=\"#000000\" d=\"M41.5426,-223.9891C41.5426,-215.1566 41.5426,-204.3099 41.5426,-194.3965\"/>\n",
       "<polygon fill=\"#000000\" stroke=\"#000000\" points=\"45.0427,-194.145 41.5426,-184.145 38.0427,-194.1451 45.0427,-194.145\"/>\n",
       "</g>\n",
       "<!-- wet&#45;&gt;slippery -->\n",
       "<g id=\"edge3\" class=\"edge\">\n",
       "<title>wet&#45;&gt;slippery</title>\n",
       "<path fill=\"none\" stroke=\"#000000\" d=\"M86.5426,-71.8314C86.5426,-64.131 86.5426,-54.9743 86.5426,-46.4166\"/>\n",
       "<polygon fill=\"#000000\" stroke=\"#000000\" points=\"90.0427,-46.4132 86.5426,-36.4133 83.0427,-46.4133 90.0427,-46.4132\"/>\n",
       "</g>\n",
       "<!-- rain -->\n",
       "<g id=\"node5\" class=\"node\">\n",
       "<title>rain</title>\n",
       "<ellipse fill=\"none\" stroke=\"#000000\" cx=\"132.5426\" cy=\"-166\" rx=\"27\" ry=\"18\"/>\n",
       "<ellipse fill=\"none\" stroke=\"#000000\" cx=\"132.5426\" cy=\"-166\" rx=\"31\" ry=\"22\"/>\n",
       "<text text-anchor=\"middle\" x=\"132.5426\" y=\"-161.8\" font-family=\"Times,serif\" font-size=\"14.00\" fill=\"#000000\">rain</text>\n",
       "</g>\n",
       "<!-- rain&#45;&gt;wet -->\n",
       "<g id=\"edge4\" class=\"edge\">\n",
       "<title>rain&#45;&gt;wet</title>\n",
       "<path fill=\"none\" stroke=\"#000000\" d=\"M120.2154,-145.6334C114.5918,-136.3422 107.8744,-125.2439 101.924,-115.4127\"/>\n",
       "<polygon fill=\"#000000\" stroke=\"#000000\" points=\"104.9006,-113.5712 96.7283,-106.8286 98.9121,-117.1959 104.9006,-113.5712\"/>\n",
       "</g>\n",
       "</g>\n",
       "</svg>\n"
      ],
      "text/plain": [
       "<graphviz.dot.Digraph at 0x111d04208>"
      ]
     },
     "execution_count": 5,
     "metadata": {},
     "output_type": "execute_result"
    }
   ],
   "source": [
    "sprinkler_do = sprinkler.do('rain')\n",
    "print(sprinkler_do.get_distribution())\n",
    "sprinkler_do.draw()"
   ]
  },
  {
   "cell_type": "markdown",
   "metadata": {},
   "source": [
    "### Causal Inference with Causal Graphical Models\n",
    "Can we make inferences from observational data? Consider, the following confounder setup where $Z$\n",
    "\n",
    "confounds the relationship between $X$ and $Y$. If we intervene on $X$, then we get the DAG\n",
    "\n",
    "farther below and then that decouples $Z$ and $X$."
   ]
  },
  {
   "cell_type": "code",
   "execution_count": 6,
   "metadata": {},
   "outputs": [
    {
     "data": {
      "image/svg+xml": [
       "<?xml version=\"1.0\" encoding=\"UTF-8\" standalone=\"no\"?>\n",
       "<!DOCTYPE svg PUBLIC \"-//W3C//DTD SVG 1.1//EN\"\n",
       " \"http://www.w3.org/Graphics/SVG/1.1/DTD/svg11.dtd\">\n",
       "<!-- Generated by graphviz version 2.40.1 (20161225.0304)\n",
       " -->\n",
       "<!-- Title: %3 Pages: 1 -->\n",
       "<svg width=\"89pt\" height=\"188pt\"\n",
       " viewBox=\"0.00 0.00 89.00 188.00\" xmlns=\"http://www.w3.org/2000/svg\" xmlns:xlink=\"http://www.w3.org/1999/xlink\">\n",
       "<g id=\"graph0\" class=\"graph\" transform=\"scale(1 1) rotate(0) translate(4 184)\">\n",
       "<title>%3</title>\n",
       "<polygon fill=\"#ffffff\" stroke=\"transparent\" points=\"-4,4 -4,-184 85,-184 85,4 -4,4\"/>\n",
       "<!-- X -->\n",
       "<g id=\"node1\" class=\"node\">\n",
       "<title>X</title>\n",
       "<ellipse fill=\"none\" stroke=\"#000000\" cx=\"27\" cy=\"-90\" rx=\"27\" ry=\"18\"/>\n",
       "<text text-anchor=\"middle\" x=\"27\" y=\"-85.8\" font-family=\"Times,serif\" font-size=\"14.00\" fill=\"#000000\">X</text>\n",
       "</g>\n",
       "<!-- Y -->\n",
       "<g id=\"node3\" class=\"node\">\n",
       "<title>Y</title>\n",
       "<ellipse fill=\"none\" stroke=\"#000000\" cx=\"54\" cy=\"-18\" rx=\"27\" ry=\"18\"/>\n",
       "<text text-anchor=\"middle\" x=\"54\" y=\"-13.8\" font-family=\"Times,serif\" font-size=\"14.00\" fill=\"#000000\">Y</text>\n",
       "</g>\n",
       "<!-- X&#45;&gt;Y -->\n",
       "<g id=\"edge1\" class=\"edge\">\n",
       "<title>X&#45;&gt;Y</title>\n",
       "<path fill=\"none\" stroke=\"#000000\" d=\"M33.6742,-72.2022C36.7476,-64.0064 40.4616,-54.1024 43.8695,-45.0145\"/>\n",
       "<polygon fill=\"#000000\" stroke=\"#000000\" points=\"47.1685,-46.1853 47.4026,-35.593 40.6142,-43.7274 47.1685,-46.1853\"/>\n",
       "</g>\n",
       "<!-- Z -->\n",
       "<g id=\"node2\" class=\"node\">\n",
       "<title>Z</title>\n",
       "<ellipse fill=\"none\" stroke=\"#000000\" cx=\"54\" cy=\"-162\" rx=\"27\" ry=\"18\"/>\n",
       "<text text-anchor=\"middle\" x=\"54\" y=\"-157.8\" font-family=\"Times,serif\" font-size=\"14.00\" fill=\"#000000\">Z</text>\n",
       "</g>\n",
       "<!-- Z&#45;&gt;X -->\n",
       "<g id=\"edge3\" class=\"edge\">\n",
       "<title>Z&#45;&gt;X</title>\n",
       "<path fill=\"none\" stroke=\"#000000\" d=\"M47.3258,-144.2022C44.2524,-136.0064 40.5384,-126.1024 37.1305,-117.0145\"/>\n",
       "<polygon fill=\"#000000\" stroke=\"#000000\" points=\"40.3858,-115.7274 33.5974,-107.593 33.8315,-118.1853 40.3858,-115.7274\"/>\n",
       "</g>\n",
       "<!-- Z&#45;&gt;Y -->\n",
       "<g id=\"edge2\" class=\"edge\">\n",
       "<title>Z&#45;&gt;Y</title>\n",
       "<path fill=\"none\" stroke=\"#000000\" d=\"M57.7474,-144.0931C59.7466,-133.6241 61.9966,-120.1241 63,-108 64.3197,-92.0545 64.3197,-87.9455 63,-72 62.2945,-63.4753 60.9727,-54.2703 59.5551,-45.917\"/>\n",
       "<polygon fill=\"#000000\" stroke=\"#000000\" points=\"62.9689,-45.1258 57.7474,-35.9069 56.0803,-46.3698 62.9689,-45.1258\"/>\n",
       "</g>\n",
       "</g>\n",
       "</svg>\n"
      ],
      "text/plain": [
       "<graphviz.dot.Digraph at 0x111d04400>"
      ]
     },
     "execution_count": 6,
     "metadata": {},
     "output_type": "execute_result"
    }
   ],
   "source": [
    "confounder = CausalGraphicalModel(\n",
    "    nodes=['X','Y','Z'],\n",
    "    edges=[\n",
    "        ('X', 'Y'),\n",
    "        ('Z', 'Y'),\n",
    "        ('Z', 'X'),\n",
    "    ]\n",
    ")\n",
    "confounder.draw()"
   ]
  },
  {
   "cell_type": "code",
   "execution_count": 7,
   "metadata": {},
   "outputs": [
    {
     "data": {
      "image/svg+xml": [
       "<?xml version=\"1.0\" encoding=\"UTF-8\" standalone=\"no\"?>\n",
       "<!DOCTYPE svg PUBLIC \"-//W3C//DTD SVG 1.1//EN\"\n",
       " \"http://www.w3.org/Graphics/SVG/1.1/DTD/svg11.dtd\">\n",
       "<!-- Generated by graphviz version 2.40.1 (20161225.0304)\n",
       " -->\n",
       "<!-- Title: %3 Pages: 1 -->\n",
       "<svg width=\"142pt\" height=\"124pt\"\n",
       " viewBox=\"0.00 0.00 142.00 124.00\" xmlns=\"http://www.w3.org/2000/svg\" xmlns:xlink=\"http://www.w3.org/1999/xlink\">\n",
       "<g id=\"graph0\" class=\"graph\" transform=\"scale(1 1) rotate(0) translate(4 120)\">\n",
       "<title>%3</title>\n",
       "<polygon fill=\"#ffffff\" stroke=\"transparent\" points=\"-4,4 -4,-120 138,-120 138,4 -4,4\"/>\n",
       "<!-- X -->\n",
       "<g id=\"node1\" class=\"node\">\n",
       "<title>X</title>\n",
       "<ellipse fill=\"none\" stroke=\"#000000\" cx=\"31\" cy=\"-94\" rx=\"27\" ry=\"18\"/>\n",
       "<ellipse fill=\"none\" stroke=\"#000000\" cx=\"31\" cy=\"-94\" rx=\"31\" ry=\"22\"/>\n",
       "<text text-anchor=\"middle\" x=\"31\" y=\"-89.8\" font-family=\"Times,serif\" font-size=\"14.00\" fill=\"#000000\">X</text>\n",
       "</g>\n",
       "<!-- Y -->\n",
       "<g id=\"node3\" class=\"node\">\n",
       "<title>Y</title>\n",
       "<ellipse fill=\"none\" stroke=\"#000000\" cx=\"69\" cy=\"-18\" rx=\"27\" ry=\"18\"/>\n",
       "<text text-anchor=\"middle\" x=\"69\" y=\"-13.8\" font-family=\"Times,serif\" font-size=\"14.00\" fill=\"#000000\">Y</text>\n",
       "</g>\n",
       "<!-- X&#45;&gt;Y -->\n",
       "<g id=\"edge1\" class=\"edge\">\n",
       "<title>X&#45;&gt;Y</title>\n",
       "<path fill=\"none\" stroke=\"#000000\" d=\"M41.3837,-73.2327C45.8665,-64.2669 51.1613,-53.6775 55.9093,-44.1815\"/>\n",
       "<polygon fill=\"#000000\" stroke=\"#000000\" points=\"59.083,-45.6602 60.4247,-35.1506 52.822,-42.5297 59.083,-45.6602\"/>\n",
       "</g>\n",
       "<!-- Z -->\n",
       "<g id=\"node2\" class=\"node\">\n",
       "<title>Z</title>\n",
       "<ellipse fill=\"none\" stroke=\"#000000\" cx=\"107\" cy=\"-94\" rx=\"27\" ry=\"18\"/>\n",
       "<text text-anchor=\"middle\" x=\"107\" y=\"-89.8\" font-family=\"Times,serif\" font-size=\"14.00\" fill=\"#000000\">Z</text>\n",
       "</g>\n",
       "<!-- Z&#45;&gt;Y -->\n",
       "<g id=\"edge2\" class=\"edge\">\n",
       "<title>Z&#45;&gt;Y</title>\n",
       "<path fill=\"none\" stroke=\"#000000\" d=\"M98.3772,-76.7544C93.5673,-67.1345 87.4774,-54.9548 82.0911,-44.1822\"/>\n",
       "<polygon fill=\"#000000\" stroke=\"#000000\" points=\"85.1914,-42.5563 77.5887,-35.1773 78.9304,-45.6869 85.1914,-42.5563\"/>\n",
       "</g>\n",
       "</g>\n",
       "</svg>\n"
      ],
      "text/plain": [
       "<graphviz.dot.Digraph at 0x111ce0eb8>"
      ]
     },
     "execution_count": 7,
     "metadata": {},
     "output_type": "execute_result"
    }
   ],
   "source": [
    "confounder_do = confounder.do('X')\n",
    "confounder_do.draw()"
   ]
  },
  {
   "cell_type": "code",
   "execution_count": 8,
   "metadata": {},
   "outputs": [
    {
     "data": {
      "text/latex": [
       "\n",
       "\\begin{align}\n",
       "P(Y|do(X)) &= \\sum_Z P(Y|do(X),Z)P(Z|do(X))  ~~~~~~ \\text{axioms of prob} \\\\\n",
       "    &= \\sum_Z P(Y|do(X),Z)P(Z) ~~~~~~ \\text{$Z$ is independent of $do(X)$} \\\\\n",
       "    &= \\sum_Z P(Y|X, Z)P(Z) ~~~~~~ \\text{stability assumption, that $Y$ behaves the same given its parents} \\\\\n",
       "    \\\\\n",
       "P(Y|do(X)) &= \\sum_Z P(Y|X, Z)P(Z) ~~~~~~ \\textbf{Adjustment Formula / g-formula}\\\\\n",
       "\\end{align}\n",
       "Compare the above to the conditional on the observed data\n",
       "\n",
       "$P(Y|X) = \\sum_Z P(Y|X, Z)P(Z|X) $\n"
      ],
      "text/plain": [
       "<IPython.core.display.Latex object>"
      ]
     },
     "metadata": {},
     "output_type": "display_data"
    }
   ],
   "source": [
    "%%latex\n",
    "\n",
    "\\begin{align}\n",
    "P(Y|do(X)) &= \\sum_Z P(Y|do(X),Z)P(Z|do(X))  ~~~~~~ \\text{axioms of prob} \\\\\n",
    "    &= \\sum_Z P(Y|do(X),Z)P(Z) ~~~~~~ \\text{$Z$ is independent of $do(X)$} \\\\\n",
    "    &= \\sum_Z P(Y|X, Z)P(Z) ~~~~~~ \\text{stability assumption, that $Y$ behaves the same given its parents} \\\\\n",
    "    \\\\\n",
    "P(Y|do(X)) &= \\sum_Z P(Y|X, Z)P(Z) ~~~~~~ \\textbf{Adjustment Formula / g-formula}\\\\\n",
    "\\end{align}\n",
    "Compare the above to the conditional on the observed data\n",
    "\n",
    "$P(Y|X) = \\sum_Z P(Y|X, Z)P(Z|X) $\n",
    "\n"
   ]
  },
  {
   "cell_type": "markdown",
   "metadata": {},
   "source": [
    "## Adjustment Formula\n",
    "When is the adjustment formula true? It is true only when the following apply:\n",
    "    \n",
    "$Z$ blocks all backdoor paths between $X$ and $Y$\n",
    "\n",
    "$Z$ does not contain any descendants of $X$"
   ]
  },
  {
   "cell_type": "code",
   "execution_count": 9,
   "metadata": {},
   "outputs": [
    {
     "data": {
      "image/svg+xml": [
       "<?xml version=\"1.0\" encoding=\"UTF-8\" standalone=\"no\"?>\n",
       "<!DOCTYPE svg PUBLIC \"-//W3C//DTD SVG 1.1//EN\"\n",
       " \"http://www.w3.org/Graphics/SVG/1.1/DTD/svg11.dtd\">\n",
       "<!-- Generated by graphviz version 2.40.1 (20161225.0304)\n",
       " -->\n",
       "<!-- Title: %3 Pages: 1 -->\n",
       "<svg width=\"189pt\" height=\"332pt\"\n",
       " viewBox=\"0.00 0.00 189.00 332.00\" xmlns=\"http://www.w3.org/2000/svg\" xmlns:xlink=\"http://www.w3.org/1999/xlink\">\n",
       "<g id=\"graph0\" class=\"graph\" transform=\"scale(1 1) rotate(0) translate(4 328)\">\n",
       "<title>%3</title>\n",
       "<polygon fill=\"#ffffff\" stroke=\"transparent\" points=\"-4,4 -4,-328 185,-328 185,4 -4,4\"/>\n",
       "<!-- y -->\n",
       "<g id=\"node1\" class=\"node\">\n",
       "<title>y</title>\n",
       "<ellipse fill=\"none\" stroke=\"#000000\" cx=\"90\" cy=\"-90\" rx=\"27\" ry=\"18\"/>\n",
       "<text text-anchor=\"middle\" x=\"90\" y=\"-85.8\" font-family=\"Times,serif\" font-size=\"14.00\" fill=\"#000000\">y</text>\n",
       "</g>\n",
       "<!-- h -->\n",
       "<g id=\"node4\" class=\"node\">\n",
       "<title>h</title>\n",
       "<ellipse fill=\"none\" stroke=\"#000000\" cx=\"27\" cy=\"-18\" rx=\"27\" ry=\"18\"/>\n",
       "<text text-anchor=\"middle\" x=\"27\" y=\"-13.8\" font-family=\"Times,serif\" font-size=\"14.00\" fill=\"#000000\">h</text>\n",
       "</g>\n",
       "<!-- y&#45;&gt;h -->\n",
       "<g id=\"edge8\" class=\"edge\">\n",
       "<title>y&#45;&gt;h</title>\n",
       "<path fill=\"none\" stroke=\"#000000\" d=\"M76.3299,-74.3771C67.8266,-64.659 56.7387,-51.987 47.2292,-41.1191\"/>\n",
       "<polygon fill=\"#000000\" stroke=\"#000000\" points=\"49.8625,-38.8135 40.6434,-33.5924 44.5944,-43.423 49.8625,-38.8135\"/>\n",
       "</g>\n",
       "<!-- f -->\n",
       "<g id=\"node6\" class=\"node\">\n",
       "<title>f</title>\n",
       "<ellipse fill=\"none\" stroke=\"#000000\" cx=\"99\" cy=\"-18\" rx=\"27\" ry=\"18\"/>\n",
       "<text text-anchor=\"middle\" x=\"99\" y=\"-13.8\" font-family=\"Times,serif\" font-size=\"14.00\" fill=\"#000000\">f</text>\n",
       "</g>\n",
       "<!-- y&#45;&gt;f -->\n",
       "<g id=\"edge7\" class=\"edge\">\n",
       "<title>y&#45;&gt;f</title>\n",
       "<path fill=\"none\" stroke=\"#000000\" d=\"M92.2711,-71.8314C93.2336,-64.131 94.3782,-54.9743 95.4479,-46.4166\"/>\n",
       "<polygon fill=\"#000000\" stroke=\"#000000\" points=\"98.9309,-46.7702 96.6983,-36.4133 91.9849,-45.9019 98.9309,-46.7702\"/>\n",
       "</g>\n",
       "<!-- d -->\n",
       "<g id=\"node2\" class=\"node\">\n",
       "<title>d</title>\n",
       "<ellipse fill=\"none\" stroke=\"#000000\" cx=\"154\" cy=\"-234\" rx=\"27\" ry=\"18\"/>\n",
       "<text text-anchor=\"middle\" x=\"154\" y=\"-229.8\" font-family=\"Times,serif\" font-size=\"14.00\" fill=\"#000000\">d</text>\n",
       "</g>\n",
       "<!-- e -->\n",
       "<g id=\"node5\" class=\"node\">\n",
       "<title>e</title>\n",
       "<ellipse fill=\"none\" stroke=\"#000000\" cx=\"154\" cy=\"-162\" rx=\"27\" ry=\"18\"/>\n",
       "<text text-anchor=\"middle\" x=\"154\" y=\"-157.8\" font-family=\"Times,serif\" font-size=\"14.00\" fill=\"#000000\">e</text>\n",
       "</g>\n",
       "<!-- d&#45;&gt;e -->\n",
       "<g id=\"edge9\" class=\"edge\">\n",
       "<title>d&#45;&gt;e</title>\n",
       "<path fill=\"none\" stroke=\"#000000\" d=\"M154,-215.8314C154,-208.131 154,-198.9743 154,-190.4166\"/>\n",
       "<polygon fill=\"#000000\" stroke=\"#000000\" points=\"157.5001,-190.4132 154,-180.4133 150.5001,-190.4133 157.5001,-190.4132\"/>\n",
       "</g>\n",
       "<!-- c -->\n",
       "<g id=\"node3\" class=\"node\">\n",
       "<title>c</title>\n",
       "<ellipse fill=\"none\" stroke=\"#000000\" cx=\"82\" cy=\"-162\" rx=\"27\" ry=\"18\"/>\n",
       "<text text-anchor=\"middle\" x=\"82\" y=\"-157.8\" font-family=\"Times,serif\" font-size=\"14.00\" fill=\"#000000\">c</text>\n",
       "</g>\n",
       "<!-- c&#45;&gt;y -->\n",
       "<g id=\"edge6\" class=\"edge\">\n",
       "<title>c&#45;&gt;y</title>\n",
       "<path fill=\"none\" stroke=\"#000000\" d=\"M84.0187,-143.8314C84.8743,-136.131 85.8917,-126.9743 86.8426,-118.4166\"/>\n",
       "<polygon fill=\"#000000\" stroke=\"#000000\" points=\"90.3283,-118.7386 87.9541,-108.4133 83.3711,-117.9656 90.3283,-118.7386\"/>\n",
       "</g>\n",
       "<!-- e&#45;&gt;y -->\n",
       "<g id=\"edge10\" class=\"edge\">\n",
       "<title>e&#45;&gt;y</title>\n",
       "<path fill=\"none\" stroke=\"#000000\" d=\"M140.113,-146.3771C131.4747,-136.659 120.2107,-123.987 110.5503,-113.1191\"/>\n",
       "<polygon fill=\"#000000\" stroke=\"#000000\" points=\"113.1196,-110.7413 103.8599,-105.5924 107.8877,-115.3918 113.1196,-110.7413\"/>\n",
       "</g>\n",
       "<!-- x -->\n",
       "<g id=\"node7\" class=\"node\">\n",
       "<title>x</title>\n",
       "<ellipse fill=\"none\" stroke=\"#000000\" cx=\"82\" cy=\"-234\" rx=\"27\" ry=\"18\"/>\n",
       "<text text-anchor=\"middle\" x=\"82\" y=\"-229.8\" font-family=\"Times,serif\" font-size=\"14.00\" fill=\"#000000\">x</text>\n",
       "</g>\n",
       "<!-- x&#45;&gt;c -->\n",
       "<g id=\"edge5\" class=\"edge\">\n",
       "<title>x&#45;&gt;c</title>\n",
       "<path fill=\"none\" stroke=\"#000000\" d=\"M82,-215.8314C82,-208.131 82,-198.9743 82,-190.4166\"/>\n",
       "<polygon fill=\"#000000\" stroke=\"#000000\" points=\"85.5001,-190.4132 82,-180.4133 78.5001,-190.4133 85.5001,-190.4132\"/>\n",
       "</g>\n",
       "<!-- b -->\n",
       "<g id=\"node8\" class=\"node\">\n",
       "<title>b</title>\n",
       "<ellipse fill=\"none\" stroke=\"#000000\" cx=\"140\" cy=\"-306\" rx=\"27\" ry=\"18\"/>\n",
       "<text text-anchor=\"middle\" x=\"140\" y=\"-301.8\" font-family=\"Times,serif\" font-size=\"14.00\" fill=\"#000000\">b</text>\n",
       "</g>\n",
       "<!-- b&#45;&gt;d -->\n",
       "<g id=\"edge4\" class=\"edge\">\n",
       "<title>b&#45;&gt;d</title>\n",
       "<path fill=\"none\" stroke=\"#000000\" d=\"M143.5328,-287.8314C145.0698,-279.9266 146.9053,-270.4872 148.6068,-261.7365\"/>\n",
       "<polygon fill=\"#000000\" stroke=\"#000000\" points=\"152.0437,-262.3976 150.5168,-251.9134 145.1724,-261.0615 152.0437,-262.3976\"/>\n",
       "</g>\n",
       "<!-- b&#45;&gt;x -->\n",
       "<g id=\"edge3\" class=\"edge\">\n",
       "<title>b&#45;&gt;x</title>\n",
       "<path fill=\"none\" stroke=\"#000000\" d=\"M127.1279,-290.0209C119.5438,-280.6061 109.8018,-268.5126 101.3116,-257.973\"/>\n",
       "<polygon fill=\"#000000\" stroke=\"#000000\" points=\"103.8351,-255.5264 94.8361,-249.9345 98.3838,-259.9177 103.8351,-255.5264\"/>\n",
       "</g>\n",
       "<!-- a -->\n",
       "<g id=\"node9\" class=\"node\">\n",
       "<title>a</title>\n",
       "<ellipse fill=\"none\" stroke=\"#000000\" cx=\"54\" cy=\"-306\" rx=\"27\" ry=\"18\"/>\n",
       "<text text-anchor=\"middle\" x=\"54\" y=\"-301.8\" font-family=\"Times,serif\" font-size=\"14.00\" fill=\"#000000\">a</text>\n",
       "</g>\n",
       "<!-- a&#45;&gt;h -->\n",
       "<g id=\"edge2\" class=\"edge\">\n",
       "<title>a&#45;&gt;h</title>\n",
       "<path fill=\"none\" stroke=\"#000000\" d=\"M51.0354,-288.0391C49.3805,-277.5522 47.3805,-264.0522 46,-252 37.5335,-178.086 31.4811,-90.6126 28.7045,-46.4929\"/>\n",
       "<polygon fill=\"#000000\" stroke=\"#000000\" points=\"32.1813,-46.0091 28.0697,-36.2447 25.1947,-46.442 32.1813,-46.0091\"/>\n",
       "</g>\n",
       "<!-- a&#45;&gt;x -->\n",
       "<g id=\"edge1\" class=\"edge\">\n",
       "<title>a&#45;&gt;x</title>\n",
       "<path fill=\"none\" stroke=\"#000000\" d=\"M60.778,-288.5708C63.9872,-280.3187 67.8935,-270.2738 71.4758,-261.0623\"/>\n",
       "<polygon fill=\"#000000\" stroke=\"#000000\" points=\"74.8248,-262.1069 75.1874,-251.5182 68.3008,-259.5697 74.8248,-262.1069\"/>\n",
       "</g>\n",
       "</g>\n",
       "</svg>\n"
      ],
      "text/plain": [
       "<graphviz.dot.Digraph at 0x111d044e0>"
      ]
     },
     "execution_count": 9,
     "metadata": {},
     "output_type": "execute_result"
    }
   ],
   "source": [
    "from causalgraphicalmodels.examples import big_csm\n",
    "example_cgm = big_csm.cgm\n",
    "example_cgm.draw()"
   ]
  },
  {
   "cell_type": "code",
   "execution_count": 10,
   "metadata": {},
   "outputs": [
    {
     "data": {
      "text/plain": [
       "frozenset({frozenset({'d', 'e'}),\n",
       "           frozenset({'a', 'e'}),\n",
       "           frozenset({'a', 'd', 'e'}),\n",
       "           frozenset({'b'}),\n",
       "           frozenset({'b', 'd'}),\n",
       "           frozenset({'a', 'b'}),\n",
       "           frozenset({'d'}),\n",
       "           frozenset({'a', 'd'}),\n",
       "           frozenset({'a', 'b', 'd'}),\n",
       "           frozenset({'e'}),\n",
       "           frozenset({'b', 'e'}),\n",
       "           frozenset({'a', 'b', 'e'}),\n",
       "           frozenset({'b', 'd', 'e'}),\n",
       "           frozenset({'a', 'b', 'd', 'e'})})"
      ]
     },
     "execution_count": 10,
     "metadata": {},
     "output_type": "execute_result"
    }
   ],
   "source": [
    "# get all backdoor adjustment sets\n",
    "example_cgm.get_all_backdoor_adjustment_sets('x','y')"
   ]
  },
  {
   "cell_type": "code",
   "execution_count": 11,
   "metadata": {},
   "outputs": [
    {
     "data": {
      "text/html": [
       "<div>\n",
       "<style scoped>\n",
       "    .dataframe tbody tr th:only-of-type {\n",
       "        vertical-align: middle;\n",
       "    }\n",
       "\n",
       "    .dataframe tbody tr th {\n",
       "        vertical-align: top;\n",
       "    }\n",
       "\n",
       "    .dataframe thead th {\n",
       "        text-align: right;\n",
       "    }\n",
       "</style>\n",
       "<table border=\"1\" class=\"dataframe\">\n",
       "  <thead>\n",
       "    <tr style=\"text-align: right;\">\n",
       "      <th></th>\n",
       "      <th>b</th>\n",
       "      <th>d</th>\n",
       "      <th>e</th>\n",
       "      <th>a</th>\n",
       "      <th>x</th>\n",
       "      <th>c</th>\n",
       "      <th>y</th>\n",
       "      <th>f</th>\n",
       "      <th>h</th>\n",
       "    </tr>\n",
       "  </thead>\n",
       "  <tbody>\n",
       "    <tr>\n",
       "      <th>0</th>\n",
       "      <td>-0.779979</td>\n",
       "      <td>0.592671</td>\n",
       "      <td>2.108259</td>\n",
       "      <td>-0.211792</td>\n",
       "      <td>0</td>\n",
       "      <td>-0.234952</td>\n",
       "      <td>-3.149868</td>\n",
       "      <td>-1.834548</td>\n",
       "      <td>-4.576666</td>\n",
       "    </tr>\n",
       "    <tr>\n",
       "      <th>1</th>\n",
       "      <td>-1.058772</td>\n",
       "      <td>1.024925</td>\n",
       "      <td>0.622312</td>\n",
       "      <td>-0.221537</td>\n",
       "      <td>0</td>\n",
       "      <td>0.057270</td>\n",
       "      <td>0.867680</td>\n",
       "      <td>-0.026985</td>\n",
       "      <td>0.124077</td>\n",
       "    </tr>\n",
       "    <tr>\n",
       "      <th>2</th>\n",
       "      <td>-0.110376</td>\n",
       "      <td>-0.042870</td>\n",
       "      <td>-0.455473</td>\n",
       "      <td>-0.115910</td>\n",
       "      <td>0</td>\n",
       "      <td>-0.820117</td>\n",
       "      <td>-2.491658</td>\n",
       "      <td>-1.045292</td>\n",
       "      <td>-4.123815</td>\n",
       "    </tr>\n",
       "    <tr>\n",
       "      <th>3</th>\n",
       "      <td>-0.630953</td>\n",
       "      <td>-0.198309</td>\n",
       "      <td>-0.737376</td>\n",
       "      <td>-1.339891</td>\n",
       "      <td>0</td>\n",
       "      <td>-0.168683</td>\n",
       "      <td>1.148839</td>\n",
       "      <td>1.531666</td>\n",
       "      <td>-0.113968</td>\n",
       "    </tr>\n",
       "    <tr>\n",
       "      <th>4</th>\n",
       "      <td>-0.532262</td>\n",
       "      <td>0.367744</td>\n",
       "      <td>2.193800</td>\n",
       "      <td>-1.814282</td>\n",
       "      <td>1</td>\n",
       "      <td>1.729301</td>\n",
       "      <td>3.186595</td>\n",
       "      <td>3.141783</td>\n",
       "      <td>0.772651</td>\n",
       "    </tr>\n",
       "  </tbody>\n",
       "</table>\n",
       "</div>"
      ],
      "text/plain": [
       "          b         d         e         a  x         c         y         f  \\\n",
       "0 -0.779979  0.592671  2.108259 -0.211792  0 -0.234952 -3.149868 -1.834548   \n",
       "1 -1.058772  1.024925  0.622312 -0.221537  0  0.057270  0.867680 -0.026985   \n",
       "2 -0.110376 -0.042870 -0.455473 -0.115910  0 -0.820117 -2.491658 -1.045292   \n",
       "3 -0.630953 -0.198309 -0.737376 -1.339891  0 -0.168683  1.148839  1.531666   \n",
       "4 -0.532262  0.367744  2.193800 -1.814282  1  1.729301  3.186595  3.141783   \n",
       "\n",
       "          h  \n",
       "0 -4.576666  \n",
       "1  0.124077  \n",
       "2 -4.123815  \n",
       "3 -0.113968  \n",
       "4  0.772651  "
      ]
     },
     "execution_count": 11,
     "metadata": {},
     "output_type": "execute_result"
    }
   ],
   "source": [
    "big_csm.sample(5)"
   ]
  },
  {
   "cell_type": "code",
   "execution_count": 19,
   "metadata": {
    "collapsed": true
   },
   "outputs": [],
   "source": [
    "# Estimate ATE from this observational data\n",
    "from causalinference import CausalModel\n",
    "def estimate_ate(dataset, adjustment_set=None, method='matching'):\n",
    "    if adjustment_set is None:\n",
    "        y0 = dataset.loc[lambda df: df.x==0].y.mean()\n",
    "        y1 = dataset.loc[lambda df: df.x==1].y.mean()\n",
    "        \n",
    "        y0_var = dataset.loc[lambda df: df.x==0].y.var()\n",
    "        y1_var = dataset.loc[lambda df: df.x==1].y.var()\n",
    "        \n",
    "        n_y0 = dataset.loc[lambda df: df.x==0].shape[0]\n",
    "        n_y1 = dataset.loc[lambda df: df.x==1].shape[0]\n",
    "        return {\n",
    "            'ate': y1 - y0,\n",
    "            'ate_se': 2 * np.sqrt(y1_var/n_y1 + y0_var/n_y0)\n",
    "        }\n",
    "    \n",
    "    cm = CausalModel(\n",
    "        Y=dataset.y.values, #outcome\n",
    "        D=dataset.x.values, #treatment\n",
    "        X=dataset[adjustment_set].values #confounders\n",
    "    )\n",
    "    cm.est_via_ols()\n",
    "    cm.est_via_matching()\n",
    "    \n",
    "    cm.est_propensity_s()\n",
    "    cm.est_via_weighting()\n",
    "    \n",
    "    cm.stratify_s()\n",
    "    cm.est_via_blocking()\n",
    "    \n",
    "    return {\n",
    "        'ate': cm.estimates[method]['ate'],\n",
    "        'ate_se': cm.estimates[method]['ate_se']\n",
    "    }\n",
    "    "
   ]
  },
  {
   "cell_type": "code",
   "execution_count": 20,
   "metadata": {},
   "outputs": [
    {
     "data": {
      "text/plain": [
       "{'ate': 4.484538064771581, 'ate_se': 0.17055645606035957}"
      ]
     },
     "execution_count": 20,
     "metadata": {},
     "output_type": "execute_result"
    }
   ],
   "source": [
    "estimate_ate(big_csm.sample(10000)) # not real ATE because it is observational"
   ]
  },
  {
   "cell_type": "code",
   "execution_count": 21,
   "metadata": {},
   "outputs": [
    {
     "name": "stdout",
     "output_type": "stream",
     "text": [
      "{'ate': 2.9813784652161837, 'ate_se': 0.17391798378482043}\n",
      "{'no_adjustment': {'ate': 4.459599599419482, 'ate_se': 0.17303193947682885}, 'adjustment_b': {'ate': 2.8848192161447574, 'ate_se': 0.14373454279146847}, 'adjustment_bde': {'ate': 2.9963612366576262, 'ate_se': 0.10917635552681271}, 'adjustment_bh': {'ate': 1.5821370929380225, 'ate_se': 0.056654666704890423}, 'adjustment_bc': {'ate': -0.045882294748157797, 'ate_se': 0.10655645525591194}, 'adjustment_all': {'ate': 0.17598153754726498, 'ate_se': 0.038851708994256287}}\n"
     ]
    }
   ],
   "source": [
    "nsamples = 10000\n",
    "ds = big_csm.sample(nsamples)\n",
    "#\n",
    "# Generate samples from interventional distribution\n",
    "# Values of X are assigned randomly as in A/B test\n",
    "#\n",
    "ds_intervention = (\n",
    "    big_csm.do('x')\n",
    "    .sample(\n",
    "        10000, \n",
    "        set_values={'x': np.random.binomial(n=1, size=10000, p=0.5)}\n",
    "    )\n",
    ")\n",
    "true_ate = estimate_ate(ds_intervention)\n",
    "print(true_ate)\n",
    "\n",
    "#\n",
    "# Generate results for a few different adjustment sets\n",
    "#\n",
    "results = {\n",
    "    'no_adjustment': estimate_ate(ds),\n",
    "    'adjustment_b': estimate_ate(ds, ['b']),\n",
    "    'adjustment_bde': estimate_ate(ds, ['b','d','e']),\n",
    "    'adjustment_bh': estimate_ate(ds, ['b', 'h']),\n",
    "    'adjustment_bc': estimate_ate(ds, ['b','c']),\n",
    "    'adjustment_all': estimate_ate(ds, ['a','b','c','d','e','f','h']),\n",
    "}\n",
    "print(results)"
   ]
  },
  {
   "cell_type": "code",
   "execution_count": 27,
   "metadata": {},
   "outputs": [
    {
     "name": "stdout",
     "output_type": "stream",
     "text": [
      "[0 1 2 3 4 5] [4.459599599419482, 2.8848192161447574, 2.9963612366576262, 1.5821370929380225, -0.045882294748157797, 0.17598153754726498] [0.17303193947682885, 0.14373454279146847, 0.10917635552681271, 0.056654666704890423, 0.10655645525591194, 0.038851708994256287]\n"
     ]
    },
    {
     "data": {
      "text/plain": [
       "<matplotlib.collections.LineCollection at 0x1a284d9cc0>"
      ]
     },
     "execution_count": 27,
     "metadata": {},
     "output_type": "execute_result"
    },
    {
     "data": {
      "image/png": "[encoded data removed]",
      "text/plain": [
       "<matplotlib.figure.Figure at 0x1a24b7c6d8>"
      ]
     },
     "metadata": {
      "needs_background": "light"
     },
     "output_type": "display_data"
    }
   ],
   "source": [
    "x_label = list(results.keys())\n",
    "x = np.arange(len(x_label))\n",
    "y, yerr = [], []\n",
    "for l in x_label:\n",
    "    if results[l] is not None:\n",
    "        y += results[l]['ate'],\n",
    "        yerr += results[l]['ate_se'],\n",
    "\n",
    "print(x,y,yerr)\n",
    "plt.figure(figsize=(10,8))\n",
    "plt.errorbar(x=x,y=y,yerr=yerr, linestyle='none', capsize=5, marker='o')\n",
    "plt.xticks(x, x_label, rotation=45,fontsize=10)\n",
    "plt.title('Estimated ATE', color='g', fontsize=18)\n",
    "xmin, xmax = plt.xlim()\n",
    "plt.hlines(true_ate['ate'], xmin, xmax, linestyle='dashed')"
   ]
  },
  {
   "cell_type": "code",
   "execution_count": null,
   "metadata": {
    "collapsed": true
   },
   "outputs": [],
   "source": []
  }
 ],
 "metadata": {
  "kernelspec": {
   "display_name": "Python 3",
   "language": "python",
   "name": "python3"
  },
  "language_info": {
   "codemirror_mode": {
    "name": "ipython",
    "version": 3
   },
   "file_extension": ".py",
   "mimetype": "text/x-python",
   "name": "python",
   "nbconvert_exporter": "python",
   "pygments_lexer": "ipython3",
   "version": "3.6.7"
  }
 },
 "nbformat": 4,
 "nbformat_minor": 2
}
