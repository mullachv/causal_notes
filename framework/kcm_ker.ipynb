{
 "cells": [
  {
   "cell_type": "code",
   "execution_count": 3,
   "metadata": {
    "collapsed": true
   },
   "outputs": [],
   "source": [
    "from keras.layers import Dense\n",
    "from keras import backend\n",
    "import numpy as np"
   ]
  },
  {
   "cell_type": "code",
   "execution_count": 50,
   "metadata": {},
   "outputs": [
    {
     "name": "stdout",
     "output_type": "stream",
     "text": [
      "(1, 2, 3)\n",
      "(1, 2, 3)\n",
      "(1, 2, 6)\n",
      "[[[ 1  2 -3  1  2 -3]\n",
      "  [ 4  5  6  4  5  6]]]\n"
     ]
    }
   ],
   "source": [
    "a = np.array([[[1,2,-3], [4,5,6]]])\n",
    "b = np.array([[[1,2,-3], [4,5,6]]])\n",
    "print(a.shape)\n",
    "print(b.shape)\n",
    "c=backend.concatenate([a, b], axis=2)\n",
    "print(c.shape)\n",
    "print(np.concatenate([a,b], axis=2))"
   ]
  },
  {
   "cell_type": "code",
   "execution_count": 27,
   "metadata": {
    "collapsed": true
   },
   "outputs": [],
   "source": [
    "b = backend.tile(a, (9, 2))"
   ]
  },
  {
   "cell_type": "code",
   "execution_count": 32,
   "metadata": {
    "collapsed": true
   },
   "outputs": [],
   "source": [
    "c = backend.reshape(a, (1,1,6))\n",
    "c = backend.tile(c, (2,3,7))"
   ]
  },
  {
   "cell_type": "code",
   "execution_count": 33,
   "metadata": {},
   "outputs": [
    {
     "name": "stdout",
     "output_type": "stream",
     "text": [
      "(2, 3, 42)\n"
     ]
    }
   ],
   "source": [
    "print(c.shape)\n"
   ]
  },
  {
   "cell_type": "code",
   "execution_count": 36,
   "metadata": {},
   "outputs": [
    {
     "name": "stdout",
     "output_type": "stream",
     "text": [
      "testing\n",
      "(18, 6)\n"
     ]
    }
   ],
   "source": [
    "print(\"testing\")\n",
    "print(b.shape)"
   ]
  },
  {
   "cell_type": "code",
   "execution_count": 70,
   "metadata": {},
   "outputs": [
    {
     "name": "stdout",
     "output_type": "stream",
     "text": [
      "(2, 3, 1)\n",
      "(2, 1, 3)\n",
      "[[[ 0 -1  2]]\n",
      "\n",
      " [[ 0 -1  8]]]\n",
      "(2, 1, 2, 3)\n",
      "[[[[ 0 -1  2]\n",
      "   [ 0 -1  2]]]\n",
      "\n",
      "\n",
      " [[[ 0 -1  8]\n",
      "   [ 0 -1  8]]]]\n"
     ]
    }
   ],
   "source": [
    "d = np.array([[[0],[-1],[2]], [[0], [-1],[8]]])\n",
    "print(d.shape)\n",
    "d = np.reshape(d,(2,1,3))\n",
    "print(d.shape)\n",
    "print(d)\n",
    "e = np.stack((d,d), axis=2)\n",
    "print(e.shape)\n",
    "print(e)"
   ]
  },
  {
   "cell_type": "code",
   "execution_count": 54,
   "metadata": {},
   "outputs": [
    {
     "name": "stdout",
     "output_type": "stream",
     "text": [
      "(2,)\n",
      "Tensor(\"Select_2:0\", shape=(2,), dtype=float32)\n"
     ]
    },
    {
     "data": {
      "text/plain": [
       "<tf.Tensor 'Sigmoid:0' shape=() dtype=float32>"
      ]
     },
     "execution_count": 54,
     "metadata": {},
     "output_type": "execute_result"
    }
   ],
   "source": [
    "bn = backend.random_binomial((2,), [0.1,0.9])\n",
    "print(bn.shape)\n",
    "print(bn)\n",
    "backend.sigmoid(0.1)"
   ]
  },
  {
   "cell_type": "code",
   "execution_count": 74,
   "metadata": {},
   "outputs": [
    {
     "name": "stdout",
     "output_type": "stream",
     "text": [
      "(4, 3)\n",
      "[[ 1  2  3]\n",
      " [ 0 -4  5]\n",
      " [-1  0  1]\n",
      " [ 0  7 -1]]\n"
     ]
    }
   ],
   "source": [
    "a = np.array([[1,2,3],[0,-4,5]])\n",
    "b = np.array([[-1,0,1],[0,7,-1]])\n",
    "c = (lambda x, y: np.concatenate([x,y], axis=0))(a,b)\n",
    "print(c.shape)\n",
    "print(c)"
   ]
  },
  {
   "cell_type": "code",
   "execution_count": 89,
   "metadata": {},
   "outputs": [
    {
     "name": "stdout",
     "output_type": "stream",
     "text": [
      "[[  4.07407407e+00  -4.44089210e-16]\n",
      " [ -4.44089210e-16   2.94741655e+00]]\n",
      "-2.22044604925e-16\n",
      "4.07407407407\n",
      "0.407407407407\n",
      "0.128760859625\n"
     ]
    }
   ],
   "source": [
    "a = np.linspace(-1,1,10)\n",
    "b = a ** 2\n",
    "r = np.stack((a, b), axis=1)\n",
    "C = np.dot(r.T, r)\n",
    "D = np.dot(r, r.T)\n",
    "print(C)\n",
    "#print(D)\n",
    "print(np.sum(a))\n",
    "print(np.sum(b))\n",
    "print(np.var(a))\n",
    "print(np.var(b))"
   ]
  },
  {
   "cell_type": "code",
   "execution_count": 90,
   "metadata": {},
   "outputs": [
    {
     "data": {
      "text/plain": [
       "[<matplotlib.lines.Line2D at 0xb3209b668>]"
      ]
     },
     "execution_count": 90,
     "metadata": {},
     "output_type": "execute_result"
    },
    {
     "data": {
      "image/png": "[encoded data removed]",
      "text/plain": [
       "<matplotlib.figure.Figure at 0xb3209b710>"
      ]
     },
     "metadata": {
      "needs_background": "light"
     },
     "output_type": "display_data"
    }
   ],
   "source": [
    "import matplotlib.pyplot as plt\n",
    "%matplotlib inline\n",
    "plt.plot(a, b, color='c')\n",
    "plt.plot(a, a, color='b')"
   ]
  },
  {
   "cell_type": "code",
   "execution_count": 91,
   "metadata": {
    "collapsed": true
   },
   "outputs": [],
   "source": [
    "def rvs(dim=3):\n",
    "     random_state = np.random\n",
    "     H = np.eye(dim)\n",
    "     D = np.ones((dim,))\n",
    "     for n in range(1, dim):\n",
    "         x = random_state.normal(size=(dim-n+1,))\n",
    "         D[n-1] = np.sign(x[0])\n",
    "         x[0] -= D[n-1]*np.sqrt((x*x).sum())\n",
    "         # Householder transformation\n",
    "         Hx = (np.eye(dim-n+1) - 2.*np.outer(x, x)/(x*x).sum())\n",
    "         mat = np.eye(dim)\n",
    "         mat[n-1:, n-1:] = Hx\n",
    "         H = np.dot(H, mat)\n",
    "         # Fix the last sign such that the determinant is 1\n",
    "     D[-1] = (-1)**(1-(dim % 2))*D.prod()\n",
    "     # Equivalent to np.dot(np.diag(D), H) but faster, apparently\n",
    "     H = (D*H.T).T\n",
    "     return H"
   ]
  },
  {
   "cell_type": "code",
   "execution_count": 97,
   "metadata": {},
   "outputs": [
    {
     "name": "stdout",
     "output_type": "stream",
     "text": [
      "[[ 0.96388439 -0.1385483   0.22744507]\n",
      " [-0.26566278 -0.56021064  0.78459373]\n",
      " [ 0.01871302 -0.81668134 -0.57678541]]\n",
      "[[  1.00000000e+00   2.18067375e-17  -3.28161282e-17]\n",
      " [  2.18067375e-17   1.00000000e+00  -1.08949919e-16]\n",
      " [ -3.28161282e-17  -1.08949919e-16   1.00000000e+00]]\n"
     ]
    }
   ],
   "source": [
    "np.random.seed(7)\n",
    "A=rvs()\n",
    "print(A)\n",
    "print(np.dot(A.T,A))"
   ]
  },
  {
   "cell_type": "code",
   "execution_count": 100,
   "metadata": {},
   "outputs": [
    {
     "name": "stdout",
     "output_type": "stream",
     "text": [
      "4.84042180016\n",
      "7.01770023245\n",
      "-1.73505105308\n"
     ]
    }
   ],
   "source": [
    "from scipy.stats import norm\n",
    "v1 = norm.rvs(size=5)\n",
    "print(np.dot(v1,v1))\n",
    "v2 = norm.rvs(size=5)\n",
    "print(np.dot(v2,v2))\n",
    "print(np.dot(v1,v2))\n"
   ]
  },
  {
   "cell_type": "code",
   "execution_count": 36,
   "metadata": {},
   "outputs": [
    {
     "name": "stdout",
     "output_type": "stream",
     "text": [
      "[[ 0.85995147 -0.38090765 -0.26011664 -0.15926733 -0.14955297]\n",
      " [-0.23701712  0.04752149 -0.48130625 -0.8134627   0.2195161 ]\n",
      " [ 0.01669525 -0.00298015  0.67730392 -0.54041815 -0.49891884]\n",
      " [ 0.20729896  0.82259455 -0.29203662  0.04179172 -0.43969695]\n",
      " [-0.4013163  -0.41950017 -0.39580001  0.13825347 -0.69799224]]\n",
      "[[ 0.85995147 -0.38090765 -0.26011664 -0.15926733 -0.14955297]\n",
      " [-0.23701712  0.04752149 -0.48130625 -0.8134627   0.2195161 ]\n",
      " [ 0.01669525 -0.00298015  0.67730392 -0.54041815 -0.49891884]\n",
      " [ 0.20729896  0.82259455 -0.29203662  0.04179172 -0.43969695]\n",
      " [-0.4013163  -0.41950017 -0.39580001  0.13825347 -0.69799224]]\n"
     ]
    }
   ],
   "source": [
    "np.random.seed(7)\n",
    "from scipy.stats import ortho_group \n",
    "r = ortho_group.rvs(dim=5)\n",
    "print(r)\n",
    "print(r[:10,])\n"
   ]
  },
  {
   "cell_type": "code",
   "execution_count": 7,
   "metadata": {},
   "outputs": [
    {
     "name": "stdout",
     "output_type": "stream",
     "text": [
      "['/data_0', '/data_1', '/data_2', '/logits_0', '/logits_1', '/logits_2', '/w_0', '/w_1', '/w_2', '/z_0', '/z_1', '/z_2']\n"
     ]
    }
   ],
   "source": [
    "import pandas as pd\n",
    "hf = pd.HDFStore('SNPS_TRAITS_data/small.h5', mode='r')\n",
    "print(hf.keys())\n",
    "df = pd.read_hdf('SNPS_TRAITS_data/small.h5', mode='r', key='/logits_0')"
   ]
  },
  {
   "cell_type": "code",
   "execution_count": 8,
   "metadata": {},
   "outputs": [
    {
     "data": {
      "text/html": [
       "<div>\n",
       "<style>\n",
       "    .dataframe thead tr:only-child th {\n",
       "        text-align: right;\n",
       "    }\n",
       "\n",
       "    .dataframe thead th {\n",
       "        text-align: left;\n",
       "    }\n",
       "\n",
       "    .dataframe tbody tr th {\n",
       "        vertical-align: top;\n",
       "    }\n",
       "</style>\n",
       "<table border=\"1\" class=\"dataframe\">\n",
       "  <thead>\n",
       "    <tr style=\"text-align: right;\">\n",
       "      <th></th>\n",
       "      <th>SNP_1</th>\n",
       "      <th>SNP_2</th>\n",
       "      <th>SNP_3</th>\n",
       "      <th>SNP_4</th>\n",
       "      <th>SNP_5</th>\n",
       "      <th>SNP_6</th>\n",
       "      <th>SNP_7</th>\n",
       "      <th>SNP_8</th>\n",
       "      <th>SNP_9</th>\n",
       "      <th>SNP_10</th>\n",
       "      <th>...</th>\n",
       "      <th>SNP_992</th>\n",
       "      <th>SNP_993</th>\n",
       "      <th>SNP_994</th>\n",
       "      <th>SNP_995</th>\n",
       "      <th>SNP_996</th>\n",
       "      <th>SNP_997</th>\n",
       "      <th>SNP_998</th>\n",
       "      <th>SNP_999</th>\n",
       "      <th>SNP_1000</th>\n",
       "      <th>Traits</th>\n",
       "    </tr>\n",
       "  </thead>\n",
       "  <tbody>\n",
       "    <tr>\n",
       "      <th>IND_1</th>\n",
       "      <td>4.373514</td>\n",
       "      <td>4.177295</td>\n",
       "      <td>7.754256</td>\n",
       "      <td>-10.990808</td>\n",
       "      <td>6.647156</td>\n",
       "      <td>-4.259582</td>\n",
       "      <td>-1.548409</td>\n",
       "      <td>4.713170</td>\n",
       "      <td>-3.609786</td>\n",
       "      <td>4.546869</td>\n",
       "      <td>...</td>\n",
       "      <td>-5.680512</td>\n",
       "      <td>2.921886</td>\n",
       "      <td>8.710619</td>\n",
       "      <td>8.396383</td>\n",
       "      <td>2.252916</td>\n",
       "      <td>0.270695</td>\n",
       "      <td>2.608673</td>\n",
       "      <td>3.054842</td>\n",
       "      <td>2.513398</td>\n",
       "      <td>-2.127226</td>\n",
       "    </tr>\n",
       "    <tr>\n",
       "      <th>IND_2</th>\n",
       "      <td>3.055617</td>\n",
       "      <td>-0.343672</td>\n",
       "      <td>-8.346302</td>\n",
       "      <td>0.581614</td>\n",
       "      <td>-7.486939</td>\n",
       "      <td>6.498495</td>\n",
       "      <td>0.648327</td>\n",
       "      <td>4.447143</td>\n",
       "      <td>0.051237</td>\n",
       "      <td>5.478371</td>\n",
       "      <td>...</td>\n",
       "      <td>0.355192</td>\n",
       "      <td>-1.202915</td>\n",
       "      <td>0.059031</td>\n",
       "      <td>-3.749630</td>\n",
       "      <td>3.496724</td>\n",
       "      <td>-1.623977</td>\n",
       "      <td>1.349203</td>\n",
       "      <td>2.905067</td>\n",
       "      <td>-3.696598</td>\n",
       "      <td>0.057110</td>\n",
       "    </tr>\n",
       "    <tr>\n",
       "      <th>IND_3</th>\n",
       "      <td>5.768056</td>\n",
       "      <td>-9.457887</td>\n",
       "      <td>12.414689</td>\n",
       "      <td>-3.231341</td>\n",
       "      <td>-0.617667</td>\n",
       "      <td>9.071454</td>\n",
       "      <td>3.080795</td>\n",
       "      <td>8.690468</td>\n",
       "      <td>8.429069</td>\n",
       "      <td>-0.848672</td>\n",
       "      <td>...</td>\n",
       "      <td>0.793960</td>\n",
       "      <td>-2.839137</td>\n",
       "      <td>-7.340413</td>\n",
       "      <td>-5.769627</td>\n",
       "      <td>-6.475426</td>\n",
       "      <td>-6.512805</td>\n",
       "      <td>-6.111516</td>\n",
       "      <td>1.651375</td>\n",
       "      <td>0.230705</td>\n",
       "      <td>-5.704020</td>\n",
       "    </tr>\n",
       "    <tr>\n",
       "      <th>IND_4</th>\n",
       "      <td>-2.137945</td>\n",
       "      <td>1.071558</td>\n",
       "      <td>1.889595</td>\n",
       "      <td>3.049105</td>\n",
       "      <td>-1.435187</td>\n",
       "      <td>-2.340731</td>\n",
       "      <td>-2.178501</td>\n",
       "      <td>2.197440</td>\n",
       "      <td>8.414785</td>\n",
       "      <td>-1.386844</td>\n",
       "      <td>...</td>\n",
       "      <td>-5.921316</td>\n",
       "      <td>5.747186</td>\n",
       "      <td>-0.244723</td>\n",
       "      <td>-6.435647</td>\n",
       "      <td>3.424663</td>\n",
       "      <td>6.422396</td>\n",
       "      <td>2.696313</td>\n",
       "      <td>5.395892</td>\n",
       "      <td>4.820115</td>\n",
       "      <td>-1.159585</td>\n",
       "    </tr>\n",
       "    <tr>\n",
       "      <th>IND_5</th>\n",
       "      <td>2.122008</td>\n",
       "      <td>-6.113349</td>\n",
       "      <td>-4.270889</td>\n",
       "      <td>-2.483720</td>\n",
       "      <td>-2.450298</td>\n",
       "      <td>2.269960</td>\n",
       "      <td>-1.092942</td>\n",
       "      <td>1.361229</td>\n",
       "      <td>-3.318002</td>\n",
       "      <td>-0.530479</td>\n",
       "      <td>...</td>\n",
       "      <td>-1.103901</td>\n",
       "      <td>-2.564569</td>\n",
       "      <td>-2.062836</td>\n",
       "      <td>-4.882741</td>\n",
       "      <td>-1.733451</td>\n",
       "      <td>-1.736716</td>\n",
       "      <td>-4.994926</td>\n",
       "      <td>2.535262</td>\n",
       "      <td>-2.380821</td>\n",
       "      <td>-6.178208</td>\n",
       "    </tr>\n",
       "  </tbody>\n",
       "</table>\n",
       "<p>5 rows × 1001 columns</p>\n",
       "</div>"
      ],
      "text/plain": [
       "          SNP_1     SNP_2      SNP_3      SNP_4     SNP_5     SNP_6     SNP_7  \\\n",
       "IND_1  4.373514  4.177295   7.754256 -10.990808  6.647156 -4.259582 -1.548409   \n",
       "IND_2  3.055617 -0.343672  -8.346302   0.581614 -7.486939  6.498495  0.648327   \n",
       "IND_3  5.768056 -9.457887  12.414689  -3.231341 -0.617667  9.071454  3.080795   \n",
       "IND_4 -2.137945  1.071558   1.889595   3.049105 -1.435187 -2.340731 -2.178501   \n",
       "IND_5  2.122008 -6.113349  -4.270889  -2.483720 -2.450298  2.269960 -1.092942   \n",
       "\n",
       "          SNP_8     SNP_9    SNP_10    ...      SNP_992   SNP_993   SNP_994  \\\n",
       "IND_1  4.713170 -3.609786  4.546869    ...    -5.680512  2.921886  8.710619   \n",
       "IND_2  4.447143  0.051237  5.478371    ...     0.355192 -1.202915  0.059031   \n",
       "IND_3  8.690468  8.429069 -0.848672    ...     0.793960 -2.839137 -7.340413   \n",
       "IND_4  2.197440  8.414785 -1.386844    ...    -5.921316  5.747186 -0.244723   \n",
       "IND_5  1.361229 -3.318002 -0.530479    ...    -1.103901 -2.564569 -2.062836   \n",
       "\n",
       "        SNP_995   SNP_996   SNP_997   SNP_998   SNP_999  SNP_1000    Traits  \n",
       "IND_1  8.396383  2.252916  0.270695  2.608673  3.054842  2.513398 -2.127226  \n",
       "IND_2 -3.749630  3.496724 -1.623977  1.349203  2.905067 -3.696598  0.057110  \n",
       "IND_3 -5.769627 -6.475426 -6.512805 -6.111516  1.651375  0.230705 -5.704020  \n",
       "IND_4 -6.435647  3.424663  6.422396  2.696313  5.395892  4.820115 -1.159585  \n",
       "IND_5 -4.882741 -1.733451 -1.736716 -4.994926  2.535262 -2.380821 -6.178208  \n",
       "\n",
       "[5 rows x 1001 columns]"
      ]
     },
     "execution_count": 8,
     "metadata": {},
     "output_type": "execute_result"
    }
   ],
   "source": [
    "\n",
    "df.head()"
   ]
  },
  {
   "cell_type": "code",
   "execution_count": 6,
   "metadata": {},
   "outputs": [
    {
     "data": {
      "text/html": [
       "<div>\n",
       "<style>\n",
       "    .dataframe thead tr:only-child th {\n",
       "        text-align: right;\n",
       "    }\n",
       "\n",
       "    .dataframe thead th {\n",
       "        text-align: left;\n",
       "    }\n",
       "\n",
       "    .dataframe tbody tr th {\n",
       "        vertical-align: top;\n",
       "    }\n",
       "</style>\n",
       "<table border=\"1\" class=\"dataframe\">\n",
       "  <thead>\n",
       "    <tr style=\"text-align: right;\">\n",
       "      <th></th>\n",
       "      <th>IND_1</th>\n",
       "      <th>IND_2</th>\n",
       "      <th>IND_3</th>\n",
       "      <th>IND_4</th>\n",
       "      <th>IND_5</th>\n",
       "      <th>IND_6</th>\n",
       "      <th>IND_7</th>\n",
       "      <th>IND_8</th>\n",
       "      <th>IND_9</th>\n",
       "      <th>IND_10</th>\n",
       "      <th>...</th>\n",
       "      <th>IND_16</th>\n",
       "      <th>IND_17</th>\n",
       "      <th>IND_18</th>\n",
       "      <th>IND_19</th>\n",
       "      <th>IND_20</th>\n",
       "      <th>IND_21</th>\n",
       "      <th>IND_22</th>\n",
       "      <th>IND_23</th>\n",
       "      <th>IND_24</th>\n",
       "      <th>IND_25</th>\n",
       "    </tr>\n",
       "  </thead>\n",
       "  <tbody>\n",
       "    <tr>\n",
       "      <th>AL_996</th>\n",
       "      <td>-0.496511</td>\n",
       "      <td>-0.953494</td>\n",
       "      <td>0.689669</td>\n",
       "      <td>-0.354049</td>\n",
       "      <td>0.691416</td>\n",
       "      <td>-0.271694</td>\n",
       "      <td>-1.110910</td>\n",
       "      <td>-0.030499</td>\n",
       "      <td>0.400953</td>\n",
       "      <td>0.083017</td>\n",
       "      <td>...</td>\n",
       "      <td>-1.517415</td>\n",
       "      <td>-0.636747</td>\n",
       "      <td>-0.426452</td>\n",
       "      <td>2.328769</td>\n",
       "      <td>-0.042011</td>\n",
       "      <td>1.236939</td>\n",
       "      <td>0.477580</td>\n",
       "      <td>0.497444</td>\n",
       "      <td>-1.242240</td>\n",
       "      <td>-0.624394</td>\n",
       "    </tr>\n",
       "    <tr>\n",
       "      <th>AL_997</th>\n",
       "      <td>0.196481</td>\n",
       "      <td>-0.596558</td>\n",
       "      <td>-0.554965</td>\n",
       "      <td>-0.424648</td>\n",
       "      <td>-0.280367</td>\n",
       "      <td>1.378480</td>\n",
       "      <td>-0.509543</td>\n",
       "      <td>0.840955</td>\n",
       "      <td>1.324826</td>\n",
       "      <td>0.626214</td>\n",
       "      <td>...</td>\n",
       "      <td>-0.883591</td>\n",
       "      <td>0.827608</td>\n",
       "      <td>0.501002</td>\n",
       "      <td>1.748479</td>\n",
       "      <td>1.108719</td>\n",
       "      <td>0.990700</td>\n",
       "      <td>0.788243</td>\n",
       "      <td>-0.749286</td>\n",
       "      <td>2.437839</td>\n",
       "      <td>-0.041771</td>\n",
       "    </tr>\n",
       "    <tr>\n",
       "      <th>AL_998</th>\n",
       "      <td>0.293056</td>\n",
       "      <td>-0.177309</td>\n",
       "      <td>0.240420</td>\n",
       "      <td>0.349457</td>\n",
       "      <td>-0.023350</td>\n",
       "      <td>1.225690</td>\n",
       "      <td>-0.723170</td>\n",
       "      <td>-0.544187</td>\n",
       "      <td>-0.567106</td>\n",
       "      <td>-0.805917</td>\n",
       "      <td>...</td>\n",
       "      <td>-0.935699</td>\n",
       "      <td>-0.579338</td>\n",
       "      <td>0.540556</td>\n",
       "      <td>-0.300282</td>\n",
       "      <td>-2.436612</td>\n",
       "      <td>0.872561</td>\n",
       "      <td>1.806165</td>\n",
       "      <td>-1.923005</td>\n",
       "      <td>0.418987</td>\n",
       "      <td>-0.234166</td>\n",
       "    </tr>\n",
       "    <tr>\n",
       "      <th>AL_999</th>\n",
       "      <td>0.147648</td>\n",
       "      <td>0.069241</td>\n",
       "      <td>0.088100</td>\n",
       "      <td>-1.062273</td>\n",
       "      <td>0.445918</td>\n",
       "      <td>-0.488693</td>\n",
       "      <td>-0.301650</td>\n",
       "      <td>-0.087474</td>\n",
       "      <td>0.661610</td>\n",
       "      <td>-1.275166</td>\n",
       "      <td>...</td>\n",
       "      <td>-0.331215</td>\n",
       "      <td>-0.147740</td>\n",
       "      <td>0.307418</td>\n",
       "      <td>-0.394099</td>\n",
       "      <td>-1.164548</td>\n",
       "      <td>0.878898</td>\n",
       "      <td>0.249357</td>\n",
       "      <td>1.080434</td>\n",
       "      <td>-1.309859</td>\n",
       "      <td>-0.104034</td>\n",
       "    </tr>\n",
       "    <tr>\n",
       "      <th>AL_1000</th>\n",
       "      <td>1.046001</td>\n",
       "      <td>1.295038</td>\n",
       "      <td>-0.384968</td>\n",
       "      <td>-0.954294</td>\n",
       "      <td>0.238340</td>\n",
       "      <td>0.403166</td>\n",
       "      <td>0.131531</td>\n",
       "      <td>-0.345329</td>\n",
       "      <td>1.328738</td>\n",
       "      <td>-0.467954</td>\n",
       "      <td>...</td>\n",
       "      <td>-0.131888</td>\n",
       "      <td>0.584445</td>\n",
       "      <td>2.105791</td>\n",
       "      <td>0.955084</td>\n",
       "      <td>1.215730</td>\n",
       "      <td>-0.015608</td>\n",
       "      <td>0.080177</td>\n",
       "      <td>-1.201013</td>\n",
       "      <td>1.946619</td>\n",
       "      <td>0.017809</td>\n",
       "    </tr>\n",
       "  </tbody>\n",
       "</table>\n",
       "<p>5 rows × 25 columns</p>\n",
       "</div>"
      ],
      "text/plain": [
       "            IND_1     IND_2     IND_3     IND_4     IND_5     IND_6     IND_7  \\\n",
       "AL_996  -0.496511 -0.953494  0.689669 -0.354049  0.691416 -0.271694 -1.110910   \n",
       "AL_997   0.196481 -0.596558 -0.554965 -0.424648 -0.280367  1.378480 -0.509543   \n",
       "AL_998   0.293056 -0.177309  0.240420  0.349457 -0.023350  1.225690 -0.723170   \n",
       "AL_999   0.147648  0.069241  0.088100 -1.062273  0.445918 -0.488693 -0.301650   \n",
       "AL_1000  1.046001  1.295038 -0.384968 -0.954294  0.238340  0.403166  0.131531   \n",
       "\n",
       "            IND_8     IND_9    IND_10    ...       IND_16    IND_17    IND_18  \\\n",
       "AL_996  -0.030499  0.400953  0.083017    ...    -1.517415 -0.636747 -0.426452   \n",
       "AL_997   0.840955  1.324826  0.626214    ...    -0.883591  0.827608  0.501002   \n",
       "AL_998  -0.544187 -0.567106 -0.805917    ...    -0.935699 -0.579338  0.540556   \n",
       "AL_999  -0.087474  0.661610 -1.275166    ...    -0.331215 -0.147740  0.307418   \n",
       "AL_1000 -0.345329  1.328738 -0.467954    ...    -0.131888  0.584445  2.105791   \n",
       "\n",
       "           IND_19    IND_20    IND_21    IND_22    IND_23    IND_24    IND_25  \n",
       "AL_996   2.328769 -0.042011  1.236939  0.477580  0.497444 -1.242240 -0.624394  \n",
       "AL_997   1.748479  1.108719  0.990700  0.788243 -0.749286  2.437839 -0.041771  \n",
       "AL_998  -0.300282 -2.436612  0.872561  1.806165 -1.923005  0.418987 -0.234166  \n",
       "AL_999  -0.394099 -1.164548  0.878898  0.249357  1.080434 -1.309859 -0.104034  \n",
       "AL_1000  0.955084  1.215730 -0.015608  0.080177 -1.201013  1.946619  0.017809  \n",
       "\n",
       "[5 rows x 25 columns]"
      ]
     },
     "execution_count": 6,
     "metadata": {},
     "output_type": "execute_result"
    }
   ],
   "source": [
    "df.tail()"
   ]
  },
  {
   "cell_type": "code",
   "execution_count": 22,
   "metadata": {},
   "outputs": [
    {
     "name": "stdout",
     "output_type": "stream",
     "text": [
      "(10, 10)\n",
      "(10, 25)\n",
      "(10,)\n",
      "(10, 1001)\n",
      "(1000, 25)\n",
      "[ 0.09202647 -0.17707714  0.41441199 -0.01695689  0.21579577  0.23612476\n",
      "  0.75473863  0.23514943  0.23945098 -0.05970625]\n",
      "[-1.53902044  1.24818277  0.59721915 -0.09892539 -0.23575977  1.00460823\n",
      "  1.44393838 -0.77543357  1.75157039  0.00681374]\n"
     ]
    }
   ],
   "source": [
    "trainz = pd.read_hdf('SNPS_TRAITS_data/small.h5', mode='r', key='/z_0').values\n",
    "trainw = pd.read_hdf('SNPS_TRAITS_data/small.h5', mode='r', key='/w_0').values\n",
    "trainl = pd.read_hdf('SNPS_TRAITS_data/small.h5', mode='r', key='/logits_0').values\n",
    "\n",
    "import numpy as np\n",
    "U, s, V = np.linalg.svd(trainl, full_matrices=False)\n",
    "print(U.shape)\n",
    "print(trainz.shape)\n",
    "\n",
    "print(s.shape)\n",
    "\n",
    "print(V.shape)\n",
    "print(trainw.shape)\n",
    "\n",
    "print(U[:,1])\n",
    "print(trainz[:,1])\n"
   ]
  },
  {
   "cell_type": "code",
   "execution_count": 20,
   "metadata": {},
   "outputs": [
    {
     "name": "stdout",
     "output_type": "stream",
     "text": [
      "[-1, 33, 100]\n"
     ]
    },
    {
     "data": {
      "text/plain": [
       "(1, 33, 100)"
      ]
     },
     "execution_count": 20,
     "metadata": {},
     "output_type": "execute_result"
    }
   ],
   "source": [
    "import numpy as np\n",
    "s = [-1] + [ x for x in df.shape ]\n",
    "print(s)\n",
    "a = np.reshape(df.values, (s))\n",
    "a.shape"
   ]
  },
  {
   "cell_type": "code",
   "execution_count": 34,
   "metadata": {},
   "outputs": [
    {
     "name": "stdout",
     "output_type": "stream",
     "text": [
      "[[[-0.18486162 -1.73182055 -0.1562881  ..., -0.88710184  0.99998212\n",
      "   -0.43985719]\n",
      "  [-0.45605704  2.00358383 -3.48818787 ..., -1.82741474 -0.9618647\n",
      "    0.23779925]\n",
      "  [ 0.61242677 -0.20035569  0.45822783 ...,  1.16487197 -1.37369652\n",
      "    1.90180767]\n",
      "  ..., \n",
      "  [ 1.40273608  0.48472546 -0.38841466 ...,  0.02487577  0.0092156\n",
      "    1.20402949]\n",
      "  [-1.46670419  0.36467814 -0.61397477 ...,  0.70598181 -1.47721057\n",
      "    0.95691116]\n",
      "  [-1.14883893 -0.20755096  0.40643957 ...,  0.22053824 -2.21078405\n",
      "   -0.61625267]]]\n"
     ]
    },
    {
     "data": {
      "text/plain": [
       "2.7182818284590451"
      ]
     },
     "execution_count": 34,
     "metadata": {},
     "output_type": "execute_result"
    }
   ],
   "source": [
    "print(a)\n",
    "np.exp(1)"
   ]
  },
  {
   "cell_type": "code",
   "execution_count": null,
   "metadata": {
    "collapsed": true
   },
   "outputs": [],
   "source": []
  }
 ],
 "metadata": {
  "kernelspec": {
   "display_name": "Python 3",
   "language": "python",
   "name": "python3"
  },
  "language_info": {
   "codemirror_mode": {
    "name": "ipython",
    "version": 3
   },
   "file_extension": ".py",
   "mimetype": "text/x-python",
   "name": "python",
   "nbconvert_exporter": "python",
   "pygments_lexer": "ipython3",
   "version": "3.6.7"
  }
 },
 "nbformat": 4,
 "nbformat_minor": 1
}
