{
 "cells": [
  {
   "cell_type": "code",
   "execution_count": 1,
   "metadata": {},
   "outputs": [
    {
     "name": "stderr",
     "output_type": "stream",
     "text": [
      "Using TensorFlow backend.\n"
     ]
    }
   ],
   "source": [
    "from keras.layers import Dense\n",
    "from keras import backend\n",
    "import numpy as np"
   ]
  },
  {
   "cell_type": "code",
   "execution_count": 50,
   "metadata": {},
   "outputs": [
    {
     "name": "stdout",
     "output_type": "stream",
     "text": [
      "(1, 2, 3)\n",
      "(1, 2, 3)\n",
      "(1, 2, 6)\n",
      "[[[ 1  2 -3  1  2 -3]\n",
      "  [ 4  5  6  4  5  6]]]\n"
     ]
    }
   ],
   "source": [
    "a = np.array([[[1,2,-3], [4,5,6]]])\n",
    "b = np.array([[[1,2,-3], [4,5,6]]])\n",
    "print(a.shape)\n",
    "print(b.shape)\n",
    "c=backend.concatenate([a, b], axis=2)\n",
    "print(c.shape)\n",
    "print(np.concatenate([a,b], axis=2))"
   ]
  },
  {
   "cell_type": "code",
   "execution_count": 27,
   "metadata": {
    "collapsed": true
   },
   "outputs": [],
   "source": [
    "b = backend.tile(a, (9, 2))"
   ]
  },
  {
   "cell_type": "code",
   "execution_count": 32,
   "metadata": {
    "collapsed": true
   },
   "outputs": [],
   "source": [
    "c = backend.reshape(a, (1,1,6))\n",
    "c = backend.tile(c, (2,3,7))"
   ]
  },
  {
   "cell_type": "code",
   "execution_count": 33,
   "metadata": {},
   "outputs": [
    {
     "name": "stdout",
     "output_type": "stream",
     "text": [
      "(2, 3, 42)\n"
     ]
    }
   ],
   "source": [
    "print(c.shape)\n"
   ]
  },
  {
   "cell_type": "code",
   "execution_count": 36,
   "metadata": {},
   "outputs": [
    {
     "name": "stdout",
     "output_type": "stream",
     "text": [
      "testing\n",
      "(18, 6)\n"
     ]
    }
   ],
   "source": [
    "print(\"testing\")\n",
    "print(b.shape)"
   ]
  },
  {
   "cell_type": "code",
   "execution_count": 70,
   "metadata": {},
   "outputs": [
    {
     "name": "stdout",
     "output_type": "stream",
     "text": [
      "(2, 3, 1)\n",
      "(2, 1, 3)\n",
      "[[[ 0 -1  2]]\n",
      "\n",
      " [[ 0 -1  8]]]\n",
      "(2, 1, 2, 3)\n",
      "[[[[ 0 -1  2]\n",
      "   [ 0 -1  2]]]\n",
      "\n",
      "\n",
      " [[[ 0 -1  8]\n",
      "   [ 0 -1  8]]]]\n"
     ]
    }
   ],
   "source": [
    "d = np.array([[[0],[-1],[2]], [[0], [-1],[8]]])\n",
    "print(d.shape)\n",
    "d = np.reshape(d,(2,1,3))\n",
    "print(d.shape)\n",
    "print(d)\n",
    "e = np.stack((d,d), axis=2)\n",
    "print(e.shape)\n",
    "print(e)"
   ]
  },
  {
   "cell_type": "code",
   "execution_count": 54,
   "metadata": {},
   "outputs": [
    {
     "name": "stdout",
     "output_type": "stream",
     "text": [
      "(2,)\n",
      "Tensor(\"Select_2:0\", shape=(2,), dtype=float32)\n"
     ]
    },
    {
     "data": {
      "text/plain": [
       "<tf.Tensor 'Sigmoid:0' shape=() dtype=float32>"
      ]
     },
     "execution_count": 54,
     "metadata": {},
     "output_type": "execute_result"
    }
   ],
   "source": [
    "bn = backend.random_binomial((2,), [0.1,0.9])\n",
    "print(bn.shape)\n",
    "print(bn)\n",
    "backend.sigmoid(0.1)"
   ]
  },
  {
   "cell_type": "code",
   "execution_count": 74,
   "metadata": {},
   "outputs": [
    {
     "name": "stdout",
     "output_type": "stream",
     "text": [
      "(4, 3)\n",
      "[[ 1  2  3]\n",
      " [ 0 -4  5]\n",
      " [-1  0  1]\n",
      " [ 0  7 -1]]\n"
     ]
    }
   ],
   "source": [
    "a = np.array([[1,2,3],[0,-4,5]])\n",
    "b = np.array([[-1,0,1],[0,7,-1]])\n",
    "c = (lambda x, y: np.concatenate([x,y], axis=0))(a,b)\n",
    "print(c.shape)\n",
    "print(c)"
   ]
  },
  {
   "cell_type": "code",
   "execution_count": 89,
   "metadata": {},
   "outputs": [
    {
     "name": "stdout",
     "output_type": "stream",
     "text": [
      "[[  4.07407407e+00  -4.44089210e-16]\n",
      " [ -4.44089210e-16   2.94741655e+00]]\n",
      "-2.22044604925e-16\n",
      "4.07407407407\n",
      "0.407407407407\n",
      "0.128760859625\n"
     ]
    }
   ],
   "source": [
    "a = np.linspace(-1,1,10)\n",
    "b = a ** 2\n",
    "r = np.stack((a, b), axis=1)\n",
    "C = np.dot(r.T, r)\n",
    "D = np.dot(r, r.T)\n",
    "print(C)\n",
    "#print(D)\n",
    "print(np.sum(a))\n",
    "print(np.sum(b))\n",
    "print(np.var(a))\n",
    "print(np.var(b))"
   ]
  },
  {
   "cell_type": "code",
   "execution_count": 90,
   "metadata": {},
   "outputs": [
    {
     "data": {
      "text/plain": [
       "[<matplotlib.lines.Line2D at 0xb3209b668>]"
      ]
     },
     "execution_count": 90,
     "metadata": {},
     "output_type": "execute_result"
    },
    {
     "data": {
      "image/png": "[encoded data removed]",
      "text/plain": [
       "<matplotlib.figure.Figure at 0xb3209b710>"
      ]
     },
     "metadata": {
      "needs_background": "light"
     },
     "output_type": "display_data"
    }
   ],
   "source": [
    "import matplotlib.pyplot as plt\n",
    "%matplotlib inline\n",
    "plt.plot(a, b, color='c')\n",
    "plt.plot(a, a, color='b')"
   ]
  },
  {
   "cell_type": "code",
   "execution_count": 91,
   "metadata": {
    "collapsed": true
   },
   "outputs": [],
   "source": [
    "def rvs(dim=3):\n",
    "     random_state = np.random\n",
    "     H = np.eye(dim)\n",
    "     D = np.ones((dim,))\n",
    "     for n in range(1, dim):\n",
    "         x = random_state.normal(size=(dim-n+1,))\n",
    "         D[n-1] = np.sign(x[0])\n",
    "         x[0] -= D[n-1]*np.sqrt((x*x).sum())\n",
    "         # Householder transformation\n",
    "         Hx = (np.eye(dim-n+1) - 2.*np.outer(x, x)/(x*x).sum())\n",
    "         mat = np.eye(dim)\n",
    "         mat[n-1:, n-1:] = Hx\n",
    "         H = np.dot(H, mat)\n",
    "         # Fix the last sign such that the determinant is 1\n",
    "     D[-1] = (-1)**(1-(dim % 2))*D.prod()\n",
    "     # Equivalent to np.dot(np.diag(D), H) but faster, apparently\n",
    "     H = (D*H.T).T\n",
    "     return H"
   ]
  },
  {
   "cell_type": "code",
   "execution_count": 97,
   "metadata": {},
   "outputs": [
    {
     "name": "stdout",
     "output_type": "stream",
     "text": [
      "[[ 0.96388439 -0.1385483   0.22744507]\n",
      " [-0.26566278 -0.56021064  0.78459373]\n",
      " [ 0.01871302 -0.81668134 -0.57678541]]\n",
      "[[  1.00000000e+00   2.18067375e-17  -3.28161282e-17]\n",
      " [  2.18067375e-17   1.00000000e+00  -1.08949919e-16]\n",
      " [ -3.28161282e-17  -1.08949919e-16   1.00000000e+00]]\n"
     ]
    }
   ],
   "source": [
    "np.random.seed(7)\n",
    "A=rvs()\n",
    "print(A)\n",
    "print(np.dot(A.T,A))"
   ]
  },
  {
   "cell_type": "code",
   "execution_count": 100,
   "metadata": {},
   "outputs": [
    {
     "name": "stdout",
     "output_type": "stream",
     "text": [
      "4.84042180016\n",
      "7.01770023245\n",
      "-1.73505105308\n"
     ]
    }
   ],
   "source": [
    "from scipy.stats import norm\n",
    "v1 = norm.rvs(size=5)\n",
    "print(np.dot(v1,v1))\n",
    "v2 = norm.rvs(size=5)\n",
    "print(np.dot(v2,v2))\n",
    "print(np.dot(v1,v2))\n"
   ]
  },
  {
   "cell_type": "code",
   "execution_count": 36,
   "metadata": {},
   "outputs": [
    {
     "name": "stdout",
     "output_type": "stream",
     "text": [
      "[[ 0.85995147 -0.38090765 -0.26011664 -0.15926733 -0.14955297]\n",
      " [-0.23701712  0.04752149 -0.48130625 -0.8134627   0.2195161 ]\n",
      " [ 0.01669525 -0.00298015  0.67730392 -0.54041815 -0.49891884]\n",
      " [ 0.20729896  0.82259455 -0.29203662  0.04179172 -0.43969695]\n",
      " [-0.4013163  -0.41950017 -0.39580001  0.13825347 -0.69799224]]\n",
      "[[ 0.85995147 -0.38090765 -0.26011664 -0.15926733 -0.14955297]\n",
      " [-0.23701712  0.04752149 -0.48130625 -0.8134627   0.2195161 ]\n",
      " [ 0.01669525 -0.00298015  0.67730392 -0.54041815 -0.49891884]\n",
      " [ 0.20729896  0.82259455 -0.29203662  0.04179172 -0.43969695]\n",
      " [-0.4013163  -0.41950017 -0.39580001  0.13825347 -0.69799224]]\n"
     ]
    }
   ],
   "source": [
    "np.random.seed(7)\n",
    "from scipy.stats import ortho_group \n",
    "r = ortho_group.rvs(dim=5)\n",
    "print(r)\n",
    "print(r[:10,])\n"
   ]
  },
  {
   "cell_type": "code",
   "execution_count": 141,
   "metadata": {},
   "outputs": [
    {
     "name": "stdout",
     "output_type": "stream",
     "text": [
      "['/trn_data_100x10000__o_k', '/trn_data_100x10000__pi_nm', '/trn_data_100x10000__x_nm', '/trn_data_100x10000__y_n', '/trn_data_100x1000__o_k', '/trn_data_100x1000__pi_nm', '/trn_data_100x1000__x_nm', '/trn_data_100x1000__y_n', '/tst_data_100x10000__o_k', '/tst_data_100x10000__pi_nm', '/tst_data_100x10000__x_nm', '/tst_data_100x10000__y_n', '/tst_data_100x1000__o_k', '/tst_data_100x1000__pi_nm', '/tst_data_100x1000__x_nm', '/tst_data_100x1000__y_n', '/val_data_100x10000__o_k', '/val_data_100x10000__pi_nm', '/val_data_100x10000__x_nm', '/val_data_100x10000__y_n', '/val_data_100x1000__o_k', '/val_data_100x1000__pi_nm', '/val_data_100x1000__x_nm', '/val_data_100x1000__y_n']\n"
     ]
    }
   ],
   "source": [
    "import pandas as pd\n",
    "hf = pd.HDFStore('SYNTHETIC_DATA/simulation.h5', mode='r')\n",
    "print(hf.keys())\n",
    "df = pd.read_hdf('SYNTHETIC_DATA/simulation.h5', mode='r', key='/trn_data_100x10000__x_nm')"
   ]
  },
  {
   "cell_type": "code",
   "execution_count": 142,
   "metadata": {},
   "outputs": [
    {
     "data": {
      "text/html": [
       "<div>\n",
       "<style>\n",
       "    .dataframe thead tr:only-child th {\n",
       "        text-align: right;\n",
       "    }\n",
       "\n",
       "    .dataframe thead th {\n",
       "        text-align: left;\n",
       "    }\n",
       "\n",
       "    .dataframe tbody tr th {\n",
       "        vertical-align: top;\n",
       "    }\n",
       "</style>\n",
       "<table border=\"1\" class=\"dataframe\">\n",
       "  <thead>\n",
       "    <tr style=\"text-align: right;\">\n",
       "      <th></th>\n",
       "      <th>SNPS_1</th>\n",
       "      <th>SNPS_2</th>\n",
       "      <th>SNPS_3</th>\n",
       "      <th>SNPS_4</th>\n",
       "      <th>SNPS_5</th>\n",
       "      <th>SNPS_6</th>\n",
       "      <th>SNPS_7</th>\n",
       "      <th>SNPS_8</th>\n",
       "      <th>SNPS_9</th>\n",
       "      <th>SNPS_10</th>\n",
       "      <th>...</th>\n",
       "      <th>SNPS_9991</th>\n",
       "      <th>SNPS_9992</th>\n",
       "      <th>SNPS_9993</th>\n",
       "      <th>SNPS_9994</th>\n",
       "      <th>SNPS_9995</th>\n",
       "      <th>SNPS_9996</th>\n",
       "      <th>SNPS_9997</th>\n",
       "      <th>SNPS_9998</th>\n",
       "      <th>SNPS_9999</th>\n",
       "      <th>SNPS_10000</th>\n",
       "    </tr>\n",
       "  </thead>\n",
       "  <tbody>\n",
       "    <tr>\n",
       "      <th>IND_96</th>\n",
       "      <td>0</td>\n",
       "      <td>0</td>\n",
       "      <td>0</td>\n",
       "      <td>1</td>\n",
       "      <td>2</td>\n",
       "      <td>0</td>\n",
       "      <td>0</td>\n",
       "      <td>1</td>\n",
       "      <td>2</td>\n",
       "      <td>0</td>\n",
       "      <td>...</td>\n",
       "      <td>1</td>\n",
       "      <td>2</td>\n",
       "      <td>0</td>\n",
       "      <td>1</td>\n",
       "      <td>2</td>\n",
       "      <td>1</td>\n",
       "      <td>1</td>\n",
       "      <td>2</td>\n",
       "      <td>1</td>\n",
       "      <td>0</td>\n",
       "    </tr>\n",
       "    <tr>\n",
       "      <th>IND_97</th>\n",
       "      <td>1</td>\n",
       "      <td>1</td>\n",
       "      <td>0</td>\n",
       "      <td>0</td>\n",
       "      <td>1</td>\n",
       "      <td>0</td>\n",
       "      <td>0</td>\n",
       "      <td>1</td>\n",
       "      <td>1</td>\n",
       "      <td>2</td>\n",
       "      <td>...</td>\n",
       "      <td>2</td>\n",
       "      <td>0</td>\n",
       "      <td>0</td>\n",
       "      <td>1</td>\n",
       "      <td>1</td>\n",
       "      <td>2</td>\n",
       "      <td>0</td>\n",
       "      <td>1</td>\n",
       "      <td>1</td>\n",
       "      <td>0</td>\n",
       "    </tr>\n",
       "    <tr>\n",
       "      <th>IND_98</th>\n",
       "      <td>1</td>\n",
       "      <td>0</td>\n",
       "      <td>0</td>\n",
       "      <td>1</td>\n",
       "      <td>1</td>\n",
       "      <td>0</td>\n",
       "      <td>1</td>\n",
       "      <td>1</td>\n",
       "      <td>2</td>\n",
       "      <td>1</td>\n",
       "      <td>...</td>\n",
       "      <td>0</td>\n",
       "      <td>0</td>\n",
       "      <td>1</td>\n",
       "      <td>1</td>\n",
       "      <td>1</td>\n",
       "      <td>1</td>\n",
       "      <td>0</td>\n",
       "      <td>2</td>\n",
       "      <td>0</td>\n",
       "      <td>0</td>\n",
       "    </tr>\n",
       "    <tr>\n",
       "      <th>IND_99</th>\n",
       "      <td>2</td>\n",
       "      <td>1</td>\n",
       "      <td>0</td>\n",
       "      <td>2</td>\n",
       "      <td>2</td>\n",
       "      <td>0</td>\n",
       "      <td>2</td>\n",
       "      <td>2</td>\n",
       "      <td>0</td>\n",
       "      <td>0</td>\n",
       "      <td>...</td>\n",
       "      <td>2</td>\n",
       "      <td>2</td>\n",
       "      <td>1</td>\n",
       "      <td>0</td>\n",
       "      <td>0</td>\n",
       "      <td>1</td>\n",
       "      <td>1</td>\n",
       "      <td>2</td>\n",
       "      <td>0</td>\n",
       "      <td>1</td>\n",
       "    </tr>\n",
       "    <tr>\n",
       "      <th>IND_100</th>\n",
       "      <td>2</td>\n",
       "      <td>0</td>\n",
       "      <td>2</td>\n",
       "      <td>0</td>\n",
       "      <td>0</td>\n",
       "      <td>0</td>\n",
       "      <td>0</td>\n",
       "      <td>1</td>\n",
       "      <td>0</td>\n",
       "      <td>0</td>\n",
       "      <td>...</td>\n",
       "      <td>1</td>\n",
       "      <td>1</td>\n",
       "      <td>1</td>\n",
       "      <td>2</td>\n",
       "      <td>2</td>\n",
       "      <td>0</td>\n",
       "      <td>0</td>\n",
       "      <td>2</td>\n",
       "      <td>1</td>\n",
       "      <td>2</td>\n",
       "    </tr>\n",
       "  </tbody>\n",
       "</table>\n",
       "<p>5 rows × 10000 columns</p>\n",
       "</div>"
      ],
      "text/plain": [
       "         SNPS_1  SNPS_2  SNPS_3  SNPS_4  SNPS_5  SNPS_6  SNPS_7  SNPS_8  \\\n",
       "IND_96        0       0       0       1       2       0       0       1   \n",
       "IND_97        1       1       0       0       1       0       0       1   \n",
       "IND_98        1       0       0       1       1       0       1       1   \n",
       "IND_99        2       1       0       2       2       0       2       2   \n",
       "IND_100       2       0       2       0       0       0       0       1   \n",
       "\n",
       "         SNPS_9  SNPS_10     ...      SNPS_9991  SNPS_9992  SNPS_9993  \\\n",
       "IND_96        2        0     ...              1          2          0   \n",
       "IND_97        1        2     ...              2          0          0   \n",
       "IND_98        2        1     ...              0          0          1   \n",
       "IND_99        0        0     ...              2          2          1   \n",
       "IND_100       0        0     ...              1          1          1   \n",
       "\n",
       "         SNPS_9994  SNPS_9995  SNPS_9996  SNPS_9997  SNPS_9998  SNPS_9999  \\\n",
       "IND_96           1          2          1          1          2          1   \n",
       "IND_97           1          1          2          0          1          1   \n",
       "IND_98           1          1          1          0          2          0   \n",
       "IND_99           0          0          1          1          2          0   \n",
       "IND_100          2          2          0          0          2          1   \n",
       "\n",
       "         SNPS_10000  \n",
       "IND_96            0  \n",
       "IND_97            0  \n",
       "IND_98            0  \n",
       "IND_99            1  \n",
       "IND_100           2  \n",
       "\n",
       "[5 rows x 10000 columns]"
      ]
     },
     "execution_count": 142,
     "metadata": {},
     "output_type": "execute_result"
    }
   ],
   "source": [
    "\n",
    "df.tail()"
   ]
  },
  {
   "cell_type": "code",
   "execution_count": 235,
   "metadata": {},
   "outputs": [
    {
     "data": {
      "text/plain": [
       "<matplotlib.collections.PathCollection at 0xb687c42b0>"
      ]
     },
     "execution_count": 235,
     "metadata": {},
     "output_type": "execute_result"
    },
    {
     "data": {
      "image/png": "[encoded data removed]",
      "text/plain": [
       "<matplotlib.figure.Figure at 0xb682a1240>"
      ]
     },
     "metadata": {
      "needs_background": "light"
     },
     "output_type": "display_data"
    }
   ],
   "source": [
    "%matplotlib inline\n",
    "import matplotlib.pyplot as plt\n",
    "from scipy.fftpack import fft\n",
    "\n",
    "fig, ax = plt.subplots(2, 3, figsize=(20,10))\n",
    "\n",
    "y = df.iloc[0,:50]\n",
    "#print(y.shape)\n",
    "x = np.arange(y.shape[0])\n",
    "ax[0,0].plot(x, y, color='b')\n",
    "\n",
    "yf = fft(y)\n",
    "ax[0,1].plot(x, np.absolute(yf), color='r')\n",
    "\n",
    "fr = np.fft.fft(y)\n",
    "#fr.sort()\n",
    "ax[0,2].plot(x[1:int(len(fr)/2)],np.absolute(fr[1:int(len(fr)/2)]), color='g')\n",
    "#print(fr)\n",
    "#print(np.absolute(yf[:5]) )\n",
    "\n",
    "sx = np.linspace(0, 20)\n",
    "sy = np.sin(sx/2.)\n",
    "ax[1,0].scatter(sx, sy)\n",
    "\n",
    "fr = np.fft.fft(sy)\n",
    "#fr.sort()\n",
    "ax[1,1].scatter(sx[0:int(len(sx)/2)], np.absolute(fr[0:int(len(fr)/2)]))"
   ]
  },
  {
   "cell_type": "code",
   "execution_count": 68,
   "metadata": {
    "scrolled": true
   },
   "outputs": [],
   "source": [
    "u,d,v = np.linalg.svd(df, full_matrices=False)"
   ]
  },
  {
   "cell_type": "code",
   "execution_count": 239,
   "metadata": {},
   "outputs": [
    {
     "name": "stdout",
     "output_type": "stream",
     "text": [
      "No Reg 0.466986794718\n",
      "L1+.02 0.46218487395\n",
      "L1+.9 0.52981192477\n",
      "L2 .02 0.537014805922\n",
      "L1 100 0.539415766307\n",
      "PCA 0.549819927971\n",
      "PCA L1 .9 0.584233693477\n",
      "PCA L1 10 0.543217286915\n",
      "PCA L1 100 0.532412965186\n",
      "PCA L1 1000 0.485194077631\n",
      "PCA L1 10000 0.512004801921\n",
      "PCA L1 100000 0.534213685474\n"
     ]
    }
   ],
   "source": [
    "dd = np.load('store_metrics.npy')\n",
    "u = dd.item()\n",
    "for k, v in u.items():\n",
    "    c, d = 0, 0\n",
    "    for a, b in v:\n",
    "        if b > c:\n",
    "            c = b\n",
    "            d = a\n",
    "    print(k,c)"
   ]
  },
  {
   "cell_type": "code",
   "execution_count": 82,
   "metadata": {},
   "outputs": [
    {
     "name": "stdout",
     "output_type": "stream",
     "text": [
      "(100, 100) 100 (100, 10000)\n",
      "13.5512023372 1001.62542719 73.9141370831\n",
      "-0.098340992976 -0.101709748982\n",
      "0.645217739206 0.00336875600624\n",
      "9 0\n",
      "0.00336875600624 0.458992558116\n",
      "(10000,)\n"
     ]
    }
   ],
   "source": [
    "print(u.shape, len(d),v.shape)\n",
    "print(max(d)/min(d),max(d),min(d))\n",
    "print(np.max(u[:,0]),np.min(u[:,0]))\n",
    "r = [ np.max(u[:,i]) - np.min(u[:,i]) for i in range(u.shape[1])]\n",
    "print(np.max(r), np.min(r))\n",
    "print(np.argmax(r), np.argmin(r))\n",
    "print(r[0],r[99])\n",
    "print(v[0].shape)"
   ]
  },
  {
   "cell_type": "code",
   "execution_count": 140,
   "metadata": {},
   "outputs": [
    {
     "name": "stdout",
     "output_type": "stream",
     "text": [
      "0\n",
      "Hello 0\n",
      "World! 0\n"
     ]
    }
   ],
   "source": [
    "tx, ty, vx, vy = [0]*4\n",
    "print(tx)\n",
    "def simple_logistic(**kargs):\n",
    "    tx = kargs['tx']\n",
    "    ty = kargs['tx']\n",
    "    vx = kargs['vx']\n",
    "    vy = kargs['vy']\n",
    "    print('Hello {}'.format(tx))\n",
    "    pass\n",
    "\n",
    "def logistic_with_l1(**kargs):\n",
    "    print('World! {}'.format(vx))\n",
    "    pass\n",
    "\n",
    "ss = {'No Reg' : simple_logistic,\n",
    "      'L1+.02' : logistic_with_l1,\n",
    "     }\n",
    "margs = {'tx': tx, 'ty': ty, 'vx': vx, 'vy': vy, 'reg': 0.02}\n",
    "for k in ss.keys():\n",
    "    f = ss[k]\n",
    "    f(**margs)"
   ]
  },
  {
   "cell_type": "code",
   "execution_count": 22,
   "metadata": {},
   "outputs": [
    {
     "name": "stdout",
     "output_type": "stream",
     "text": [
      "(10, 10)\n",
      "(10, 25)\n",
      "(10,)\n",
      "(10, 1001)\n",
      "(1000, 25)\n",
      "[ 0.09202647 -0.17707714  0.41441199 -0.01695689  0.21579577  0.23612476\n",
      "  0.75473863  0.23514943  0.23945098 -0.05970625]\n",
      "[-1.53902044  1.24818277  0.59721915 -0.09892539 -0.23575977  1.00460823\n",
      "  1.44393838 -0.77543357  1.75157039  0.00681374]\n"
     ]
    }
   ],
   "source": [
    "trainz = pd.read_hdf('SNPS_TRAITS_data/small.h5', mode='r', key='/z_0').values\n",
    "trainw = pd.read_hdf('SNPS_TRAITS_data/small.h5', mode='r', key='/w_0').values\n",
    "trainl = pd.read_hdf('SNPS_TRAITS_data/small.h5', mode='r', key='/logits_0').values\n",
    "\n",
    "import numpy as np\n",
    "U, s, V = np.linalg.svd(trainl, full_matrices=False)\n",
    "print(U.shape)\n",
    "print(trainz.shape)\n",
    "\n",
    "print(s.shape)\n",
    "\n",
    "print(V.shape)\n",
    "print(trainw.shape)\n",
    "\n",
    "print(U[:,1])\n",
    "print(trainz[:,1])\n"
   ]
  },
  {
   "cell_type": "code",
   "execution_count": 20,
   "metadata": {},
   "outputs": [
    {
     "name": "stdout",
     "output_type": "stream",
     "text": [
      "[-1, 33, 100]\n"
     ]
    },
    {
     "data": {
      "text/plain": [
       "(1, 33, 100)"
      ]
     },
     "execution_count": 20,
     "metadata": {},
     "output_type": "execute_result"
    }
   ],
   "source": [
    "import numpy as np\n",
    "s = [-1] + [ x for x in df.shape ]\n",
    "print(s)\n",
    "a = np.reshape(df.values, (s))\n",
    "a.shape"
   ]
  },
  {
   "cell_type": "code",
   "execution_count": 56,
   "metadata": {},
   "outputs": [
    {
     "data": {
      "text/plain": [
       "array([0, 0, 0, 0, 0, 1, 1, 0, 0, 0])"
      ]
     },
     "execution_count": 56,
     "metadata": {},
     "output_type": "execute_result"
    }
   ],
   "source": [
    "from scipy.stats import binom\n",
    "binom.rvs(1, np.random.random(10))"
   ]
  },
  {
   "cell_type": "code",
   "execution_count": 55,
   "metadata": {},
   "outputs": [
    {
     "name": "stdout",
     "output_type": "stream",
     "text": [
      "[ 0.334  0.334  0.663  0.336  0.333]\n",
      "[1, 1, 1, 1, 0] [0, 0, 0, 1, 0]\n"
     ]
    },
    {
     "data": {
      "text/plain": [
       "array([0, 1, 1, 0, 0])"
      ]
     },
     "execution_count": 55,
     "metadata": {},
     "output_type": "execute_result"
    }
   ],
   "source": [
    "import numpy as np\n",
    "np.random.seed(4099777)\n",
    "\n",
    "#a = np.random.random([5])\n",
    "a = np.array([ 0.334, 0.334, 0.663,  0.336,  0.333])\n",
    "print(a)\n",
    "from keras import backend\n",
    "from scipy.stats import binom\n",
    "\n",
    "x = []\n",
    "for i in range(10000):\n",
    "    x += binom.rvs(2,a).tolist(),\n",
    "print(x[0], x[1])\n",
    "x = np.asarray(x, int)\n",
    "#print(x)\n",
    "\n",
    "#\n",
    "# https://stackoverflow.com/questions/12297016/how-to-find-most-frequent-values-in-numpy-ndarray?rq=1\n",
    "#\n",
    "def most_frequent(x):\n",
    "    u , indices = np.unique(x, return_inverse=True)\n",
    "    axis = 0\n",
    "    return u[np.argmax(\n",
    "                    np.apply_along_axis(np.bincount, \n",
    "                            axis,\n",
    "                            indices.reshape(x.shape), \n",
    "                            None, \n",
    "                            np.max(indices)+1\n",
    "                        ),\n",
    "                axis=axis)]\n",
    "most_frequent(x)\n",
    "\n",
    "#counts = np.bincount()\n",
    "#print np.argmax(counts)\n"
   ]
  },
  {
   "cell_type": "code",
   "execution_count": 36,
   "metadata": {},
   "outputs": [
    {
     "name": "stdout",
     "output_type": "stream",
     "text": [
      "[[ 0.9905355   0.18878795  0.32921926  0.68429418]\n",
      " [ 0.67517361  0.30325753  0.05943099  0.78336045]\n",
      " [ 0.40491054  0.49021441  0.93073081  0.74001344]]\n",
      "[[ 4.65069804 -1.45790507 -0.71171832  0.77357709]\n",
      " [ 0.73167901 -0.83183346 -2.76166925  1.285358  ]\n",
      " [-0.38504558 -0.03914737  2.59796982  1.04603844]]\n"
     ]
    }
   ],
   "source": [
    "def logits(pi_nm):\n",
    "    return np.log(pi_nm/(1. - pi_nm))\n",
    "\n",
    "probs = np.random.random([3,4])\n",
    "print(probs)\n",
    "print(logits(probs))"
   ]
  },
  {
   "cell_type": "code",
   "execution_count": 47,
   "metadata": {},
   "outputs": [
    {
     "name": "stdout",
     "output_type": "stream",
     "text": [
      "[[-0.07767854  1.          3.        ]\n",
      " [-0.00666164  0.          3.        ]\n",
      " [-1.89822223  1.          3.        ]\n",
      " [-0.13734993  3.          1.        ]\n",
      " [-0.04440839  1.          3.        ]]\n"
     ]
    }
   ],
   "source": [
    "from keras.utils import to_categorical\n",
    "def create_non_gwas(N, D1, D2, D3):\n",
    "    def create_contns_data(N, D1):\n",
    "        return np.random.randn(N, D1)\n",
    "\n",
    "    NUM_DISCRETE = 3\n",
    "    def create_discrete_data(N, D2):\n",
    "        return binom.rvs(NUM_DISCRETE, np.random.random([N, D2]))\n",
    "\n",
    "#     NUM_CATEGORIES = 2\n",
    "#     def create_categorical_data(N, D3):\n",
    "#         for _ in range(D3):\n",
    "\n",
    "    return np.concatenate((create_contns_data(N,D1), create_discrete_data(N, D2)), axis=1)\n",
    "\n",
    "print(create_non_gwas(5,1,2,1))"
   ]
  },
  {
   "cell_type": "code",
   "execution_count": 51,
   "metadata": {},
   "outputs": [
    {
     "data": {
      "text/plain": [
       "2"
      ]
     },
     "execution_count": 51,
     "metadata": {},
     "output_type": "execute_result"
    }
   ],
   "source": [
    "x = create_non_gwas(5,1,2,1)\n",
    "len(x.shape)"
   ]
  },
  {
   "cell_type": "code",
   "execution_count": 24,
   "metadata": {},
   "outputs": [
    {
     "name": "stdout",
     "output_type": "stream",
     "text": [
      "[[[ 0  1  2]\n",
      "  [ 3  4  5]]\n",
      "\n",
      " [[ 6  7  8]\n",
      "  [ 9 10 11]]]\n",
      "[[-0.63772373  0.91705482]\n",
      " [ 0.89976195  1.11016744]\n",
      " [ 0.58771011  1.57871577]]\n"
     ]
    },
    {
     "ename": "TypeError",
     "evalue": "'tuple' object cannot be interpreted as an integer",
     "output_type": "error",
     "traceback": [
      "\u001b[0;31m---------------------------------------------------------------------------\u001b[0m",
      "\u001b[0;31mTypeError\u001b[0m                                 Traceback (most recent call last)",
      "\u001b[0;32m<ipython-input-24-e16d9ae1d9c5>\u001b[0m in \u001b[0;36m<module>\u001b[0;34m()\u001b[0m\n\u001b[1;32m      4\u001b[0m \u001b[0mc\u001b[0m \u001b[0;34m=\u001b[0m \u001b[0mnp\u001b[0m\u001b[0;34m.\u001b[0m\u001b[0mrandom\u001b[0m\u001b[0;34m.\u001b[0m\u001b[0mrandn\u001b[0m\u001b[0;34m(\u001b[0m\u001b[0;36m3\u001b[0m\u001b[0;34m,\u001b[0m\u001b[0;36m2\u001b[0m\u001b[0;34m)\u001b[0m\u001b[0;34m\u001b[0m\u001b[0;34m\u001b[0m\u001b[0m\n\u001b[1;32m      5\u001b[0m \u001b[0mprint\u001b[0m\u001b[0;34m(\u001b[0m\u001b[0mc\u001b[0m\u001b[0;34m)\u001b[0m\u001b[0;34m\u001b[0m\u001b[0;34m\u001b[0m\u001b[0m\n\u001b[0;32m----> 6\u001b[0;31m \u001b[0mc\u001b[0m\u001b[0;34m.\u001b[0m\u001b[0mreshape\u001b[0m\u001b[0;34m(\u001b[0m\u001b[0;34m-\u001b[0m\u001b[0;36m1\u001b[0m\u001b[0;34m,\u001b[0m \u001b[0;34m(\u001b[0m\u001b[0;36m2\u001b[0m\u001b[0;34m,\u001b[0m\u001b[0;36m3\u001b[0m\u001b[0;34m)\u001b[0m\u001b[0;34m)\u001b[0m\u001b[0;34m\u001b[0m\u001b[0;34m\u001b[0m\u001b[0m\n\u001b[0m",
      "\u001b[0;31mTypeError\u001b[0m: 'tuple' object cannot be interpreted as an integer"
     ]
    }
   ],
   "source": [
    "import numpy as np\n",
    "a = np.arange(12).reshape(2,2,3)\n",
    "print(a)\n",
    "c = np.random.randn(3,2)\n",
    "print(c)\n",
    "c.reshape(-1, (2,3))"
   ]
  },
  {
   "cell_type": "code",
   "execution_count": 121,
   "metadata": {},
   "outputs": [
    {
     "name": "stdout",
     "output_type": "stream",
     "text": [
      "[[[0]\n",
      "  [1]\n",
      "  [2]\n",
      "  [3]\n",
      "  [4]]\n",
      "\n",
      " [[0]\n",
      "  [1]\n",
      "  [2]\n",
      "  [3]\n",
      "  [4]]\n",
      "\n",
      " [[0]\n",
      "  [1]\n",
      "  [2]\n",
      "  [3]\n",
      "  [4]]]\n"
     ]
    }
   ],
   "source": [
    "a ="
   ]
  },
  {
   "cell_type": "code",
   "execution_count": null,
   "metadata": {
    "collapsed": true
   },
   "outputs": [],
   "source": []
  }
 ],
 "metadata": {
  "kernelspec": {
   "display_name": "Python 3",
   "language": "python",
   "name": "python3"
  },
  "language_info": {
   "codemirror_mode": {
    "name": "ipython",
    "version": 3
   },
   "file_extension": ".py",
   "mimetype": "text/x-python",
   "name": "python",
   "nbconvert_exporter": "python",
   "pygments_lexer": "ipython3",
   "version": "3.6.7"
  }
 },
 "nbformat": 4,
 "nbformat_minor": 1
}
