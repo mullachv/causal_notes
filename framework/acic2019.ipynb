{
 "cells": [
  {
   "cell_type": "code",
   "execution_count": 29,
   "metadata": {
    "collapsed": true
   },
   "outputs": [],
   "source": [
    "import numpy as np\n",
    "import pandas as pd\n",
    "import matplotlib.pyplot as plt\n",
    "%matplotlib inline\n",
    "np.random.seed(40997)\n",
    "\n",
    "from causalinference import CausalModel"
   ]
  },
  {
   "cell_type": "code",
   "execution_count": 30,
   "metadata": {},
   "outputs": [
    {
     "data": {
      "text/html": [
       "<div>\n",
       "<style scoped>\n",
       "    .dataframe tbody tr th:only-of-type {\n",
       "        vertical-align: middle;\n",
       "    }\n",
       "\n",
       "    .dataframe tbody tr th {\n",
       "        vertical-align: top;\n",
       "    }\n",
       "\n",
       "    .dataframe thead th {\n",
       "        text-align: right;\n",
       "    }\n",
       "</style>\n",
       "<table border=\"1\" class=\"dataframe\">\n",
       "  <thead>\n",
       "    <tr style=\"text-align: right;\">\n",
       "      <th></th>\n",
       "      <th>Y</th>\n",
       "      <th>A</th>\n",
       "      <th>V1</th>\n",
       "      <th>V2</th>\n",
       "      <th>V3</th>\n",
       "      <th>V4</th>\n",
       "      <th>V5</th>\n",
       "      <th>V6</th>\n",
       "      <th>V7</th>\n",
       "      <th>V8</th>\n",
       "      <th>...</th>\n",
       "      <th>V13</th>\n",
       "      <th>V14</th>\n",
       "      <th>V15</th>\n",
       "      <th>V16</th>\n",
       "      <th>V17</th>\n",
       "      <th>V18</th>\n",
       "      <th>V19</th>\n",
       "      <th>V20</th>\n",
       "      <th>V21</th>\n",
       "      <th>V22</th>\n",
       "    </tr>\n",
       "  </thead>\n",
       "  <tbody>\n",
       "    <tr>\n",
       "      <th>620</th>\n",
       "      <td>0</td>\n",
       "      <td>0</td>\n",
       "      <td>0.0</td>\n",
       "      <td>0.0</td>\n",
       "      <td>0.0</td>\n",
       "      <td>0.0</td>\n",
       "      <td>0.00</td>\n",
       "      <td>0.00</td>\n",
       "      <td>0.0</td>\n",
       "      <td>0.0</td>\n",
       "      <td>...</td>\n",
       "      <td>0.0</td>\n",
       "      <td>0.00</td>\n",
       "      <td>4.50</td>\n",
       "      <td>0.0</td>\n",
       "      <td>0.00</td>\n",
       "      <td>0.0</td>\n",
       "      <td>0.0</td>\n",
       "      <td>0.0</td>\n",
       "      <td>0.00</td>\n",
       "      <td>0.200489</td>\n",
       "    </tr>\n",
       "    <tr>\n",
       "      <th>621</th>\n",
       "      <td>0</td>\n",
       "      <td>0</td>\n",
       "      <td>0.6</td>\n",
       "      <td>0.3</td>\n",
       "      <td>0.4</td>\n",
       "      <td>0.1</td>\n",
       "      <td>1.42</td>\n",
       "      <td>0.81</td>\n",
       "      <td>0.1</td>\n",
       "      <td>0.5</td>\n",
       "      <td>...</td>\n",
       "      <td>0.0</td>\n",
       "      <td>1.01</td>\n",
       "      <td>2.23</td>\n",
       "      <td>0.5</td>\n",
       "      <td>2.03</td>\n",
       "      <td>0.0</td>\n",
       "      <td>0.0</td>\n",
       "      <td>0.3</td>\n",
       "      <td>0.00</td>\n",
       "      <td>1.152469</td>\n",
       "    </tr>\n",
       "    <tr>\n",
       "      <th>622</th>\n",
       "      <td>0</td>\n",
       "      <td>0</td>\n",
       "      <td>0.0</td>\n",
       "      <td>0.0</td>\n",
       "      <td>0.0</td>\n",
       "      <td>0.0</td>\n",
       "      <td>0.00</td>\n",
       "      <td>0.00</td>\n",
       "      <td>0.0</td>\n",
       "      <td>0.0</td>\n",
       "      <td>...</td>\n",
       "      <td>0.0</td>\n",
       "      <td>0.00</td>\n",
       "      <td>1.43</td>\n",
       "      <td>0.0</td>\n",
       "      <td>0.00</td>\n",
       "      <td>0.0</td>\n",
       "      <td>0.0</td>\n",
       "      <td>0.0</td>\n",
       "      <td>0.00</td>\n",
       "      <td>0.205387</td>\n",
       "    </tr>\n",
       "    <tr>\n",
       "      <th>623</th>\n",
       "      <td>0</td>\n",
       "      <td>0</td>\n",
       "      <td>0.0</td>\n",
       "      <td>0.0</td>\n",
       "      <td>0.0</td>\n",
       "      <td>0.0</td>\n",
       "      <td>0.00</td>\n",
       "      <td>0.00</td>\n",
       "      <td>0.0</td>\n",
       "      <td>0.0</td>\n",
       "      <td>...</td>\n",
       "      <td>0.0</td>\n",
       "      <td>0.00</td>\n",
       "      <td>0.00</td>\n",
       "      <td>0.0</td>\n",
       "      <td>0.00</td>\n",
       "      <td>0.0</td>\n",
       "      <td>0.0</td>\n",
       "      <td>0.0</td>\n",
       "      <td>4.65</td>\n",
       "      <td>1.197552</td>\n",
       "    </tr>\n",
       "    <tr>\n",
       "      <th>624</th>\n",
       "      <td>1</td>\n",
       "      <td>0</td>\n",
       "      <td>0.0</td>\n",
       "      <td>0.0</td>\n",
       "      <td>0.0</td>\n",
       "      <td>0.0</td>\n",
       "      <td>0.00</td>\n",
       "      <td>0.00</td>\n",
       "      <td>0.0</td>\n",
       "      <td>0.0</td>\n",
       "      <td>...</td>\n",
       "      <td>0.0</td>\n",
       "      <td>0.00</td>\n",
       "      <td>0.00</td>\n",
       "      <td>0.0</td>\n",
       "      <td>0.24</td>\n",
       "      <td>0.0</td>\n",
       "      <td>0.0</td>\n",
       "      <td>0.0</td>\n",
       "      <td>1.93</td>\n",
       "      <td>0.869618</td>\n",
       "    </tr>\n",
       "  </tbody>\n",
       "</table>\n",
       "<p>5 rows × 24 columns</p>\n",
       "</div>"
      ],
      "text/plain": [
       "     Y  A   V1   V2   V3   V4    V5    V6   V7   V8    ...     V13   V14  \\\n",
       "620  0  0  0.0  0.0  0.0  0.0  0.00  0.00  0.0  0.0    ...     0.0  0.00   \n",
       "621  0  0  0.6  0.3  0.4  0.1  1.42  0.81  0.1  0.5    ...     0.0  1.01   \n",
       "622  0  0  0.0  0.0  0.0  0.0  0.00  0.00  0.0  0.0    ...     0.0  0.00   \n",
       "623  0  0  0.0  0.0  0.0  0.0  0.00  0.00  0.0  0.0    ...     0.0  0.00   \n",
       "624  1  0  0.0  0.0  0.0  0.0  0.00  0.00  0.0  0.0    ...     0.0  0.00   \n",
       "\n",
       "      V15  V16   V17  V18  V19  V20   V21       V22  \n",
       "620  4.50  0.0  0.00  0.0  0.0  0.0  0.00  0.200489  \n",
       "621  2.23  0.5  2.03  0.0  0.0  0.3  0.00  1.152469  \n",
       "622  1.43  0.0  0.00  0.0  0.0  0.0  0.00  0.205387  \n",
       "623  0.00  0.0  0.00  0.0  0.0  0.0  4.65  1.197552  \n",
       "624  0.00  0.0  0.24  0.0  0.0  0.0  1.93  0.869618  \n",
       "\n",
       "[5 rows x 24 columns]"
      ]
     },
     "execution_count": 30,
     "metadata": {},
     "output_type": "execute_result"
    }
   ],
   "source": [
    "# df = pd.read_csv('low_dim/low1746.csv')\n",
    "df = pd.read_csv('TestDatasets_lowD/testdataset5.csv')\n",
    "df.tail()"
   ]
  },
  {
   "cell_type": "code",
   "execution_count": 66,
   "metadata": {},
   "outputs": [
    {
     "data": {
      "text/plain": [
       "(135, 490)"
      ]
     },
     "execution_count": 66,
     "metadata": {},
     "output_type": "execute_result"
    }
   ],
   "source": [
    "vs = [ x for x in df.columns if x.startswith('V')]\n",
    "a1 = df[df.A == 1][vs]\n",
    "a0 = df[df.A == 0][vs]\n",
    "a1.V1.count(), a0.V1.count()"
   ]
  },
  {
   "cell_type": "code",
   "execution_count": 61,
   "metadata": {},
   "outputs": [],
   "source": [
    "def get_pc(df, treated=True):\n",
    "    vs = [ x for x in df.columns if x.startswith('V')]\n",
    "    if treated:\n",
    "        a1 = df[df.A == 1][vs].values\n",
    "        A1 = np.dot(a1.T, a1)\n",
    "        return np.linalg.svd(A1)\n",
    "    \n",
    "    a0 = df[df.A == 0][vs].values\n",
    "    A0 = np.dot(a0.T, a0)\n",
    "    return np.linalg.svd(A0)\n",
    "\n",
    "tU, ts, tV = get_pc(df, True)\n",
    "cU, cs, cV = get_pc(df, False)"
   ]
  },
  {
   "cell_type": "code",
   "execution_count": 67,
   "metadata": {},
   "outputs": [
    {
     "name": "stdout",
     "output_type": "stream",
     "text": [
      "(22,) (22,)\n",
      "0.216\n"
     ]
    }
   ],
   "source": [
    "print(ts.shape, cs.shape)\n",
    "print(a1.V1.count()/(a1.V1.count() + a0.V1.count()))"
   ]
  },
  {
   "cell_type": "code",
   "execution_count": 64,
   "metadata": {},
   "outputs": [
    {
     "name": "stdout",
     "output_type": "stream",
     "text": [
      "[ 2072.17819221   599.28695623   319.34927256   227.405944     157.16633349\n",
      "   109.30896058    87.96645023    79.66810967    58.48327722    50.64345219\n",
      "    47.02213247    43.16673487    21.79681514    20.17124457    18.62522396\n",
      "    17.26222488    12.05487482     9.04094885     8.39267121     6.58832501\n",
      "     5.2758093      4.15413769]\n",
      "[ 3024.38429314  2450.39865088   819.9137185    520.17181972   352.86037507\n",
      "   264.88519916   239.69413978   209.47840047   163.69072256   118.1670128\n",
      "   105.69393755    86.47104285    64.58855647    50.5961306     46.19213411\n",
      "    37.10840524    29.41207945    27.81299712    24.87544882    20.9373715\n",
      "    12.02837544    10.38095093]\n"
     ]
    }
   ],
   "source": [
    "print(ts)\n",
    "print(cs)"
   ]
  },
  {
   "cell_type": "code",
   "execution_count": 77,
   "metadata": {},
   "outputs": [
    {
     "name": "stdout",
     "output_type": "stream",
     "text": [
      "\n",
      "Treatment Effect Estimates: Weighting\n",
      "\n",
      "                     Est.       S.e.          z      P>|z|      [95% Conf. int.]\n",
      "--------------------------------------------------------------------------------\n",
      "           ATE      0.212      0.053      4.023      0.000      0.109      0.315\n",
      "\n"
     ]
    }
   ],
   "source": [
    "\n",
    "cm = CausalModel(\n",
    "    Y=df.Y.values,\n",
    "    D=df.A.values,\n",
    "    X=df[vs].values\n",
    ")\n",
    "cm.est_propensity_s()\n",
    "propensity = cm.propensity['fitted']\n",
    "# print(propensity.shape, cm.propensity)\n",
    "# print(propensity[:5])\n",
    "\n",
    "#OLS\n",
    "# cm.est_via_ols\n",
    "\n",
    "# Matching estimate\n",
    "# cm.est_via_matching\n",
    "\n",
    "# Weighting estimate\n",
    "cm.est_propensity_s()\n",
    "cm.est_via_weighting()\n",
    "\n",
    "# cm.stratify_s()\n",
    "# cm.est_via_blocking()\n",
    "print(cm.estimates)\n"
   ]
  },
  {
   "cell_type": "code",
   "execution_count": null,
   "metadata": {
    "collapsed": true
   },
   "outputs": [],
   "source": []
  }
 ],
 "metadata": {
  "kernelspec": {
   "display_name": "Python 3",
   "language": "python",
   "name": "python3"
  },
  "language_info": {
   "codemirror_mode": {
    "name": "ipython",
    "version": 3
   },
   "file_extension": ".py",
   "mimetype": "text/x-python",
   "name": "python",
   "nbconvert_exporter": "python",
   "pygments_lexer": "ipython3",
   "version": "3.6.7"
  }
 },
 "nbformat": 4,
 "nbformat_minor": 2
}
